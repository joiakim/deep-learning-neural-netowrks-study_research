{
 "cells": [
  {
   "cell_type": "markdown",
   "id": "ff0dc58b",
   "metadata": {},
   "source": [
    "# This is a basic neural network built to classify the MNIST dataset based on the book how to build your own neural network by tariq rasheed"
   ]
  },
  {
   "cell_type": "code",
   "execution_count": 2,
   "id": "742f1216",
   "metadata": {
    "scrolled": true
   },
   "outputs": [
    {
     "name": "stderr",
     "output_type": "stream",
     "text": [
      "C:\\Users\\joiakim\\anaconda3\\lib\\site-packages\\scipy\\__init__.py:146: UserWarning: A NumPy version >=1.16.5 and <1.23.0 is required for this version of SciPy (detected version 1.24.3\n",
      "  warnings.warn(f\"A NumPy version >={np_minversion} and <{np_maxversion}\"\n"
     ]
    }
   ],
   "source": [
    "import numpy as np\n",
    "import scipy.special as sp\n",
    "import matplotlib.pyplot as plt"
   ]
  },
  {
   "cell_type": "markdown",
   "id": "4282aa6d",
   "metadata": {},
   "source": [
    "## we would use the MNIST dataset"
   ]
  },
  {
   "cell_type": "code",
   "execution_count": 4,
   "id": "e9a597e2",
   "metadata": {},
   "outputs": [],
   "source": [
    "data_file = open(\"mnist_train.csv\", \"r\")\n",
    "datalist = data_file.readlines()\n",
    "data_file.close()"
   ]
  },
  {
   "cell_type": "code",
   "execution_count": 5,
   "id": "4b50190e",
   "metadata": {},
   "outputs": [
    {
     "data": {
      "text/plain": [
       "60001"
      ]
     },
     "execution_count": 5,
     "metadata": {},
     "output_type": "execute_result"
    }
   ],
   "source": [
    "len(datalist)"
   ]
  },
  {
   "cell_type": "code",
   "execution_count": 6,
   "id": "d86e7ec5",
   "metadata": {},
   "outputs": [
    {
     "data": {
      "text/plain": [
       "'5,0,0,0,0,0,0,0,0,0,0,0,0,0,0,0,0,0,0,0,0,0,0,0,0,0,0,0,0,0,0,0,0,0,0,0,0,0,0,0,0,0,0,0,0,0,0,0,0,0,0,0,0,0,0,0,0,0,0,0,0,0,0,0,0,0,0,0,0,0,0,0,0,0,0,0,0,0,0,0,0,0,0,0,0,0,0,0,0,0,0,0,0,0,0,0,0,0,0,0,0,0,0,0,0,0,0,0,0,0,0,0,0,0,0,0,0,0,0,0,0,0,0,0,0,0,0,0,0,0,0,0,0,0,0,0,0,0,0,0,0,0,0,0,0,0,0,0,0,0,0,0,0,3,18,18,18,126,136,175,26,166,255,247,127,0,0,0,0,0,0,0,0,0,0,0,0,30,36,94,154,170,253,253,253,253,253,225,172,253,242,195,64,0,0,0,0,0,0,0,0,0,0,0,49,238,253,253,253,253,253,253,253,253,251,93,82,82,56,39,0,0,0,0,0,0,0,0,0,0,0,0,18,219,253,253,253,253,253,198,182,247,241,0,0,0,0,0,0,0,0,0,0,0,0,0,0,0,0,0,0,80,156,107,253,253,205,11,0,43,154,0,0,0,0,0,0,0,0,0,0,0,0,0,0,0,0,0,0,0,14,1,154,253,90,0,0,0,0,0,0,0,0,0,0,0,0,0,0,0,0,0,0,0,0,0,0,0,0,0,139,253,190,2,0,0,0,0,0,0,0,0,0,0,0,0,0,0,0,0,0,0,0,0,0,0,0,0,11,190,253,70,0,0,0,0,0,0,0,0,0,0,0,0,0,0,0,0,0,0,0,0,0,0,0,0,0,35,241,225,160,108,1,0,0,0,0,0,0,0,0,0,0,0,0,0,0,0,0,0,0,0,0,0,0,0,81,240,253,253,119,25,0,0,0,0,0,0,0,0,0,0,0,0,0,0,0,0,0,0,0,0,0,0,0,45,186,253,253,150,27,0,0,0,0,0,0,0,0,0,0,0,0,0,0,0,0,0,0,0,0,0,0,0,16,93,252,253,187,0,0,0,0,0,0,0,0,0,0,0,0,0,0,0,0,0,0,0,0,0,0,0,0,0,249,253,249,64,0,0,0,0,0,0,0,0,0,0,0,0,0,0,0,0,0,0,0,0,0,46,130,183,253,253,207,2,0,0,0,0,0,0,0,0,0,0,0,0,0,0,0,0,0,0,0,39,148,229,253,253,253,250,182,0,0,0,0,0,0,0,0,0,0,0,0,0,0,0,0,0,0,24,114,221,253,253,253,253,201,78,0,0,0,0,0,0,0,0,0,0,0,0,0,0,0,0,0,23,66,213,253,253,253,253,198,81,2,0,0,0,0,0,0,0,0,0,0,0,0,0,0,0,0,18,171,219,253,253,253,253,195,80,9,0,0,0,0,0,0,0,0,0,0,0,0,0,0,0,0,55,172,226,253,253,253,253,244,133,11,0,0,0,0,0,0,0,0,0,0,0,0,0,0,0,0,0,0,136,253,253,253,212,135,132,16,0,0,0,0,0,0,0,0,0,0,0,0,0,0,0,0,0,0,0,0,0,0,0,0,0,0,0,0,0,0,0,0,0,0,0,0,0,0,0,0,0,0,0,0,0,0,0,0,0,0,0,0,0,0,0,0,0,0,0,0,0,0,0,0,0,0,0,0,0,0,0,0,0,0,0,0,0,0,0,0,0,0,0,0,0,0,0,0,0,0,0,0,0,0,0,0,0,0,0,0\\n'"
      ]
     },
     "execution_count": 6,
     "metadata": {},
     "output_type": "execute_result"
    }
   ],
   "source": [
    "datalist[1]"
   ]
  },
  {
   "cell_type": "markdown",
   "id": "4c2eca07",
   "metadata": {},
   "source": [
    "### building our class for neural network "
   ]
  },
  {
   "cell_type": "code",
   "execution_count": 8,
   "id": "15149157",
   "metadata": {},
   "outputs": [],
   "source": [
    "class Neuralnetwork():\n",
    "    def __init__(self, inputnodes, hiddennodes, outputnodes, learningrate):\n",
    "        self.inodes = inputnodes\n",
    "        self.hnodes = hiddennodes\n",
    "        self.onodes = outputnodes\n",
    "        self.lrate = learningrate\n",
    "        # weights are represented in matrix forms, using a normal distribution for intial weights\n",
    "        self.wi_h = np.random.normal(0.0, pow(self.hnodes, -0.5), (self.hnodes, self.inodes)) # weights from input to hidden nodes\n",
    "        self.wh_o = np.random.normal(0.0, pow(self.onodes, -0.5), (self.onodes, self.hnodes)) # weights from hidden to output nodes\n",
    "        # sigmoid function for activation\n",
    "        self.activation_function = lambda x: sp.expit(x) \n",
    "        pass\n",
    "    \n",
    "    \n",
    "    def train(self, input_list, target_list):\n",
    "        inputs= np.array(input_list, ndmin=2).T\n",
    "        targets = np.array(target_list, ndmin=2).T\n",
    "        \n",
    "        #calculate signals into nodes and apply sigmoid function\n",
    "        hidden_inputs = np.dot(self.wi_h, inputs) # 100 * 1\n",
    "        hidden_outputs = self.activation_function(hidden_inputs) #100 * 1\n",
    "        \n",
    "        #calculate signals into nodes and apply function\n",
    "        current_output = np.dot(self.wh_o, hidden_outputs) # 10 * 1\n",
    "        final_output = self.activation_function(current_output) #10 * 1\n",
    "        #calculating error and tuning\n",
    "        o_error = targets-final_output\n",
    "        hidden_errors = np.dot(self.wh_o.T, o_error) # 100 * 1\n",
    "        #updating weights\n",
    "        self.wh_o += self.lrate * np.dot((o_error * final_output*(1.0 -final_output)), np.transpose(hidden_outputs)) #10 * 100\n",
    "        self.wi_h += self.lrate * np.dot((hidden_errors * hidden_outputs*(1.0 -hidden_outputs)), np.transpose(inputs))\n",
    "        pass\n",
    "    \n",
    "    def query(self, *args):\n",
    "        # convert input list to 2d array\n",
    "        t_inputs = np.array(*args, ndmin=2).T\n",
    "        #calculate signals into nodes and apply sigmoid function\n",
    "        t_hidden_inputs = np.dot(self.wi_h, t_inputs)\n",
    "        t_hidden_outputs = self.activation_function(t_hidden_inputs)\n",
    "        #calculate signals into nodes and apply function\n",
    "        t_current_output = np.dot(self.wh_o, t_hidden_outputs)\n",
    "        t_final_output = self.activation_function(t_current_output)\n",
    "        \n",
    "        return t_final_output\n",
    "    "
   ]
  },
  {
   "cell_type": "markdown",
   "id": "6a336cd0",
   "metadata": {},
   "source": [
    "### passing the hyperparameters and training our neural network"
   ]
  },
  {
   "cell_type": "code",
   "execution_count": 10,
   "id": "616f4aa3",
   "metadata": {},
   "outputs": [],
   "source": [
    "inputnodes = 784\n",
    "hiddennodes = 100\n",
    "outputnodes = 10\n",
    "learningrate = 0.3\n",
    "\n",
    "n = Neuralnetwork(inputnodes, hiddennodes, outputnodes, learningrate)\n",
    "\n",
    "epochs=5\n",
    "\n",
    "for e in range(epochs):\n",
    "    for record in datalist[1:]:\n",
    "        all_values = record.split(\",\")\n",
    "        scaled_input = ((np.asfarray(all_values[1:])/255.0)* 0.99) + 0.01\n",
    "        targets = np.zeros(outputnodes) + 0.01\n",
    "        targets[int(all_values[0])] = 0.99\n",
    "        n.train(scaled_input, targets)\n",
    "        pass\n",
    "    pass    "
   ]
  },
  {
   "cell_type": "markdown",
   "id": "8a541e25",
   "metadata": {},
   "source": [
    "### scoring our accuracy on the test data set."
   ]
  },
  {
   "cell_type": "code",
   "execution_count": 12,
   "id": "29f4500b",
   "metadata": {},
   "outputs": [],
   "source": [
    "test_data_file = open(\"mnist_test.csv\", \"r\")\n",
    "test_data_list = test_data_file.readlines()\n",
    "test_data_file.close()"
   ]
  },
  {
   "cell_type": "code",
   "execution_count": 13,
   "id": "86099e45",
   "metadata": {},
   "outputs": [
    {
     "name": "stdout",
     "output_type": "stream",
     "text": [
      "7\n"
     ]
    }
   ],
   "source": [
    "val_t = test_data_list[1].split(\",\")\n",
    "print(val_t[0])"
   ]
  },
  {
   "cell_type": "code",
   "execution_count": 14,
   "id": "bce8147a",
   "metadata": {},
   "outputs": [
    {
     "data": {
      "text/plain": [
       "<matplotlib.image.AxesImage at 0x1e37f3f7c10>"
      ]
     },
     "execution_count": 14,
     "metadata": {},
     "output_type": "execute_result"
    },
    {
     "data": {
      "image/png": "[encoded data removed]",
      "text/plain": [
       "<Figure size 432x288 with 1 Axes>"
      ]
     },
     "metadata": {
      "needs_background": "light"
     },
     "output_type": "display_data"
    }
   ],
   "source": [
    "image_array = np.asfarray(val_t[1:]).reshape((28,28))\n",
    "plt.imshow(image_array, cmap=\"Greys\", interpolation=\"None\")"
   ]
  },
  {
   "cell_type": "code",
   "execution_count": 15,
   "id": "5734b73e",
   "metadata": {},
   "outputs": [
    {
     "data": {
      "text/plain": [
       "array([[0.0033755 ],\n",
       "       [0.00674218],\n",
       "       [0.05881563],\n",
       "       [0.00249201],\n",
       "       [0.01348394],\n",
       "       [0.00134506],\n",
       "       [0.01024328],\n",
       "       [0.98888294],\n",
       "       [0.00257876],\n",
       "       [0.00957366]])"
      ]
     },
     "execution_count": 15,
     "metadata": {},
     "output_type": "execute_result"
    }
   ],
   "source": [
    "n.query((np.asfarray(val_t[1:])/255 * 0.99) + 0.01)"
   ]
  },
  {
   "cell_type": "markdown",
   "id": "40d127d1",
   "metadata": {},
   "source": [
    "### scoring neural network"
   ]
  },
  {
   "cell_type": "code",
   "execution_count": 16,
   "id": "18ed239b",
   "metadata": {},
   "outputs": [],
   "source": [
    "scorecard = []\n",
    "\n",
    "for record in test_data_list[1:]:\n",
    "    xval = record.split(\",\")\n",
    "    correct_label = int(xval[0])\n",
    "    \n",
    "    test_input = ((np.asfarray(xval[1:])/255.0) * 0.99) + 0.01\n",
    "    test_output = n.query(test_input)\n",
    "    test_label =  np.argmax(test_output)\n",
    "    \n",
    "    if test_label == correct_label:\n",
    "        scorecard.append(1)\n",
    "    else:\n",
    "        scorecard.append(0)\n",
    "        pass\n",
    "    pass\n"
   ]
  },
  {
   "cell_type": "code",
   "execution_count": 17,
   "id": "34dacc10",
   "metadata": {},
   "outputs": [
    {
     "name": "stdout",
     "output_type": "stream",
     "text": [
      "network performace =  0.9496\n"
     ]
    }
   ],
   "source": [
    "scorecard_array = np.asarray(scorecard)\n",
    "print(\"network performace = \",  scorecard_array.sum()/scorecard_array.size)"
   ]
  },
  {
   "cell_type": "code",
   "execution_count": null,
   "id": "e5c121b1",
   "metadata": {},
   "outputs": [],
   "source": []
  }
 ],
 "metadata": {
  "kernelspec": {
   "display_name": "Python 3 (ipykernel)",
   "language": "python",
   "name": "python3"
  },
  "language_info": {
   "codemirror_mode": {
    "name": "ipython",
    "version": 3
   },
   "file_extension": ".py",
   "mimetype": "text/x-python",
   "name": "python",
   "nbconvert_exporter": "python",
   "pygments_lexer": "ipython3",
   "version": "3.9.7"
  }
 },
 "nbformat": 4,
 "nbformat_minor": 5
}
