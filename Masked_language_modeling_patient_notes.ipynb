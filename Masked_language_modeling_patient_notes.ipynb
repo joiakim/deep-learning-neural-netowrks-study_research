{
  "metadata": {
    "kernelspec": {
      "language": "python",
      "display_name": "Python 3",
      "name": "python3"
    },
    "language_info": {
      "name": "python",
      "version": "3.10.12",
      "mimetype": "text/x-python",
      "codemirror_mode": {
        "name": "ipython",
        "version": 3
      },
      "pygments_lexer": "ipython3",
      "nbconvert_exporter": "python",
      "file_extension": ".py"
    },
    "kaggle": {
      "accelerator": "gpu",
      "dataSources": [
        {
          "sourceId": 33607,
          "databundleVersionId": 3075283,
          "sourceType": "competition"
        },
        {
          "sourceId": 3503773,
          "sourceType": "datasetVersion",
          "datasetId": 2001834
        },
        {
          "sourceId": 11552734,
          "sourceType": "datasetVersion",
          "datasetId": 934701
        }
      ],
      "dockerImageVersionId": 30918,
      "isInternetEnabled": false,
      "language": "python",
      "sourceType": "notebook",
      "isGpuEnabled": true
    },
    "colab": {
      "provenance": []
    }
  },
  "nbformat_minor": 0,
  "nbformat": 4,
  "cells": [
    {
      "cell_type": "markdown",
      "source": [
        "# Masked language Modeling with Patient notes (masking specific terms).\n",
        "\n",
        "###  - Instructions\n",
        "#### -run notebook in Kaggle.\n",
        "#### -[Data source](https://www.kaggle.com/competitions/nbme-score-clinical-patient-notes/data)\n",
        "#### -Models :bert-base and BioClinicalbert."
      ],
      "metadata": {
        "id": "B_kZ6xlN5kkQ"
      }
    },
    {
      "cell_type": "code",
      "source": [
        "pip install evaluate"
      ],
      "metadata": {
        "trusted": true,
        "execution": {
          "iopub.status.busy": "2025-04-26T12:17:56.277758Z",
          "iopub.execute_input": "2025-04-26T12:17:56.278042Z",
          "iopub.status.idle": "2025-04-26T12:18:47.592585Z",
          "shell.execute_reply.started": "2025-04-26T12:17:56.278019Z",
          "shell.execute_reply": "2025-04-26T12:18:47.591738Z"
        },
        "id": "ouCWSbmn5ae_",
        "outputId": "bf345cce-83c6-4142-df1b-07d814a9e11d"
      },
      "outputs": [
        {
          "name": "stdout",
          "text": "\u001b[33mWARNING: Retrying (Retry(total=4, connect=None, read=None, redirect=None, status=None)) after connection broken by 'NewConnectionError('<pip._vendor.urllib3.connection.HTTPSConnection object at 0x7ff4b1380e20>: Failed to establish a new connection: [Errno -3] Temporary failure in name resolution')': /simple/evaluate/\u001b[0m\u001b[33m\n\u001b[0m^C\nNote: you may need to restart the kernel to use updated packages.\n",
          "output_type": "stream"
        }
      ],
      "execution_count": null
    },
    {
      "cell_type": "code",
      "source": [
        "import os\n",
        "os.environ[\"PYTORCH_CUDA_ALLOC_CONF\"] = \"expandable_segments:True\""
      ],
      "metadata": {
        "trusted": true,
        "execution": {
          "iopub.status.busy": "2025-04-28T15:18:45.348988Z",
          "iopub.execute_input": "2025-04-28T15:18:45.349247Z",
          "iopub.status.idle": "2025-04-28T15:18:45.352839Z",
          "shell.execute_reply.started": "2025-04-28T15:18:45.349225Z",
          "shell.execute_reply": "2025-04-28T15:18:45.351958Z"
        },
        "id": "o_1_cZtK5afB"
      },
      "outputs": [],
      "execution_count": null
    },
    {
      "cell_type": "code",
      "source": [
        "import numpy as np\n",
        "import pandas as pd\n",
        "from datasets import Dataset, DatasetDict\n",
        "from transformers import (\n",
        "    pipeline,\n",
        "    AutoTokenizer,\n",
        "    AutoModelForMaskedLM,\n",
        "    DataCollatorForLanguageModeling,\n",
        "    TrainingArguments,\n",
        "    Trainer\n",
        ")\n",
        "import torch\n",
        "import math\n",
        "import matplotlib.pyplot as plt\n",
        "import time"
      ],
      "metadata": {
        "trusted": true,
        "execution": {
          "iopub.status.busy": "2025-04-28T15:19:52.904485Z",
          "iopub.execute_input": "2025-04-28T15:19:52.904826Z",
          "iopub.status.idle": "2025-04-28T15:20:15.152934Z",
          "shell.execute_reply.started": "2025-04-28T15:19:52.904796Z",
          "shell.execute_reply": "2025-04-28T15:20:15.152245Z"
        },
        "id": "PdFInpHS5afC"
      },
      "outputs": [],
      "execution_count": null
    },
    {
      "cell_type": "code",
      "source": [
        "import random\n",
        "\n",
        "def set_seed(seed=1220):\n",
        "    random.seed(seed)\n",
        "    np.random.seed(seed)\n",
        "    torch.manual_seed(seed)\n",
        "    if torch.cuda.is_available():\n",
        "        torch.cuda.manual_seed_all(seed)\n",
        "    torch.backends.cudnn.deterministic = True\n",
        "    torch.backends.cudnn.benchmark = False\n",
        "\n",
        "set_seed()"
      ],
      "metadata": {
        "trusted": true,
        "execution": {
          "iopub.status.busy": "2025-04-28T15:20:15.154028Z",
          "iopub.execute_input": "2025-04-28T15:20:15.154855Z",
          "iopub.status.idle": "2025-04-28T15:20:15.212082Z",
          "shell.execute_reply.started": "2025-04-28T15:20:15.154821Z",
          "shell.execute_reply": "2025-04-28T15:20:15.211202Z"
        },
        "id": "fDejKgcO5afD"
      },
      "outputs": [],
      "execution_count": null
    },
    {
      "cell_type": "code",
      "source": [
        "dataset = pd.read_csv(\"/kaggle/input/nbme-score-clinical-patient-notes/patient_notes.csv\")"
      ],
      "metadata": {
        "trusted": true,
        "execution": {
          "iopub.status.busy": "2025-04-28T15:20:15.213721Z",
          "iopub.execute_input": "2025-04-28T15:20:15.214021Z",
          "iopub.status.idle": "2025-04-28T15:20:15.913642Z",
          "shell.execute_reply.started": "2025-04-28T15:20:15.214000Z",
          "shell.execute_reply": "2025-04-28T15:20:15.912956Z"
        },
        "id": "C7K9AV1K5afD"
      },
      "outputs": [],
      "execution_count": null
    },
    {
      "cell_type": "markdown",
      "source": [
        "### {0:male, 1:female, 2:female, 3:male, 4:female, 5:female, 6:male, 7:female, 8:female, 9:female}"
      ],
      "metadata": {
        "id": "JhlDBl_55afE"
      }
    },
    {
      "cell_type": "code",
      "source": [
        "dataset[\"pn_history\"] = dataset[\"pn_history\"].apply(lambda x: x.lower())\n",
        "print(dataset.shape)"
      ],
      "metadata": {
        "trusted": true,
        "execution": {
          "iopub.status.busy": "2025-04-28T15:20:15.914853Z",
          "iopub.execute_input": "2025-04-28T15:20:15.915133Z",
          "iopub.status.idle": "2025-04-28T15:20:15.977076Z",
          "shell.execute_reply.started": "2025-04-28T15:20:15.915100Z",
          "shell.execute_reply": "2025-04-28T15:20:15.976448Z"
        },
        "id": "8Dxos7C55afG",
        "outputId": "7c07fefa-429b-4e82-b79c-3bbfa316d5b0"
      },
      "outputs": [
        {
          "name": "stdout",
          "text": "(42146, 3)\n",
          "output_type": "stream"
        }
      ],
      "execution_count": null
    },
    {
      "cell_type": "code",
      "source": [
        "# Define train and test case numbers explicitly\n",
        "train_case_nums = [1,2,3,4,5,8]\n",
        "test_case_nums = [6,9]\n",
        "# Split the dataset into train and test\n",
        "train_data = dataset[dataset[\"case_num\"].isin(train_case_nums)]\n",
        "eval_data = dataset[dataset[\"case_num\"].isin(test_case_nums)]\n",
        "test_data = dataset[dataset[\"case_num\"].isin([0,7])]\n",
        "print(train_data.shape)\n",
        "print(eval_data.shape)\n",
        "print(test_data.shape)"
      ],
      "metadata": {
        "trusted": true,
        "execution": {
          "iopub.status.busy": "2025-04-28T15:20:15.977972Z",
          "iopub.execute_input": "2025-04-28T15:20:15.978284Z",
          "iopub.status.idle": "2025-04-28T15:20:15.994721Z",
          "shell.execute_reply.started": "2025-04-28T15:20:15.978253Z",
          "shell.execute_reply": "2025-04-28T15:20:15.993871Z"
        },
        "id": "G0mmUD5i5afI",
        "outputId": "81075982-8f79-4f89-f280-1378ea52dc47"
      },
      "outputs": [
        {
          "name": "stdout",
          "text": "(29029, 3)\n(6748, 3)\n(6369, 3)\n",
          "output_type": "stream"
        }
      ],
      "execution_count": null
    },
    {
      "cell_type": "code",
      "source": [
        "train_dataset = Dataset.from_pandas(train_data, preserve_index=False)\n",
        "eval_dataset = Dataset.from_pandas(eval_data, preserve_index=False)"
      ],
      "metadata": {
        "trusted": true,
        "execution": {
          "iopub.status.busy": "2025-04-28T15:20:15.995676Z",
          "iopub.execute_input": "2025-04-28T15:20:15.995974Z",
          "iopub.status.idle": "2025-04-28T15:20:16.236115Z",
          "shell.execute_reply.started": "2025-04-28T15:20:15.995946Z",
          "shell.execute_reply": "2025-04-28T15:20:16.235211Z"
        },
        "id": "gbus6KdE5afJ"
      },
      "outputs": [],
      "execution_count": null
    },
    {
      "cell_type": "markdown",
      "source": [
        "16 gender tokens and 94 symptom tokens to be masked"
      ],
      "metadata": {
        "id": "3Mo_YkeR5afJ"
      }
    },
    {
      "cell_type": "code",
      "source": [
        "gender_terms = [\"he\", \"his\", \"man\", \"male\",\n",
        "                 \"mr\", \"boy\", \"m\",\"she\", \"her\",\n",
        "                 \"woman\", \"female\", \"mrs\", \"girl\", \"f\", \"his\", \"hers\",\"ms\"]\n",
        "\n",
        "\n",
        "symptom_terms = ['feverish', 'cough', 'palpitation', 'cramping',\n",
        "            'pruritis', 'dyspareunia', 'sob', 'nausea', 'fevers',\n",
        "            'fibroids', 'cramp', 'hemoptysis', 'fatigue', 'tremors',\n",
        "            'headaches', 'itching', 'palpitations', 'lightheadedness',\n",
        "            'fainting', 'rhinorrea', 'rhinorrhea', 'flashes', 'claminess',\n",
        "            'heart pounding', 'agitation', 'bruising', 'delusions', 'tingling',\n",
        "            'aches', 'anhedonia', 'hoarseness', 'clammy', 'hematuria',\n",
        "            'thyroid dz', 'nocturia', 'wt loss', 'hallucinations',\n",
        "            'numbness', 'falls', 'nauseous', 'rigors', 'paranoia',\n",
        "            'diarrhea', 'constipation', 'stressed out', 'incontinence',\n",
        "            'migraines', 'tenderness', 'redness', 'shortness', 'sweating',\n",
        "            'diarrhoea', 'headache', 'dizziness', 'tightness', 'vomiting',\n",
        "            'swelling', 'drowsiness', 'achy', 'heartburn', 'diaphoresis',\n",
        "            'sweats', 'chills', 'photophobia', 'spotting', 'syncope',\n",
        "            'lightheaded', 'pain', 'hematemesis', 'fever', 'insomnia',\n",
        "            'weakness', 'breathlessness', 'nightmares', 'discharge',\n",
        "            'tenesmus', 'polyuria', 'worthlessness', 'retardation',\n",
        "            'jaundice', 'melena', 'malaise', 'hematochezia',\n",
        "            'nervousness', 'dryness', 'mariguana', 'anorexia',\n",
        "            'tired', 'wheezing', 'chest pain', 'dysuria',\n",
        "            'irritability', 'bloating', 'tension']"
      ],
      "metadata": {
        "trusted": true,
        "execution": {
          "iopub.status.busy": "2025-04-28T15:20:16.237051Z",
          "iopub.execute_input": "2025-04-28T15:20:16.237370Z",
          "iopub.status.idle": "2025-04-28T15:20:16.243063Z",
          "shell.execute_reply.started": "2025-04-28T15:20:16.237340Z",
          "shell.execute_reply": "2025-04-28T15:20:16.242261Z"
        },
        "id": "2vAaxHoO5afK"
      },
      "outputs": [],
      "execution_count": null
    },
    {
      "cell_type": "markdown",
      "source": [
        "94 symptoms to be masked"
      ],
      "metadata": {
        "id": "5FiFkf-g5afK"
      }
    },
    {
      "cell_type": "code",
      "source": [
        "specific_terms_to_mask = gender_terms\n",
        "chunk_size = 128"
      ],
      "metadata": {
        "trusted": true,
        "execution": {
          "iopub.status.busy": "2025-04-28T15:20:16.245534Z",
          "iopub.execute_input": "2025-04-28T15:20:16.245733Z",
          "iopub.status.idle": "2025-04-28T15:20:16.261838Z",
          "shell.execute_reply.started": "2025-04-28T15:20:16.245716Z",
          "shell.execute_reply": "2025-04-28T15:20:16.261006Z"
        },
        "id": "_WNTEyDK5afK"
      },
      "outputs": [],
      "execution_count": null
    },
    {
      "cell_type": "code",
      "source": [
        "Model_Checkpoint = \"/kaggle/input/huggingface-bert/bert-base-uncased\"\n",
        "tokenizer = AutoTokenizer.from_pretrained(Model_Checkpoint)\n",
        "model = AutoModelForMaskedLM.from_pretrained(Model_Checkpoint)"
      ],
      "metadata": {
        "trusted": true,
        "execution": {
          "iopub.status.busy": "2025-04-28T15:20:16.263231Z",
          "iopub.execute_input": "2025-04-28T15:20:16.263422Z",
          "iopub.status.idle": "2025-04-28T15:20:21.545625Z",
          "shell.execute_reply.started": "2025-04-28T15:20:16.263406Z",
          "shell.execute_reply": "2025-04-28T15:20:21.544939Z"
        },
        "id": "1cf4VGaE5afL",
        "outputId": "a0506d28-a0de-40e4-e49e-3db030877c9f"
      },
      "outputs": [
        {
          "name": "stderr",
          "text": "BertForMaskedLM has generative capabilities, as `prepare_inputs_for_generation` is explicitly overwritten. However, it doesn't directly inherit from `GenerationMixin`. From 👉v4.50👈 onwards, `PreTrainedModel` will NOT inherit from `GenerationMixin`, and this model will lose the ability to call `generate` and other related functions.\n  - If you're using `trust_remote_code=True`, you can get rid of this warning by loading the model with an auto class. See https://huggingface.co/docs/transformers/en/model_doc/auto#auto-classes\n  - If you are the owner of the model architecture code, please modify your model class such that it inherits from `GenerationMixin` (after `PreTrainedModel`, otherwise you'll get an exception).\n  - If you are not the owner of the model architecture class, please contact the model code owner to update it.\nSome weights of the model checkpoint at /kaggle/input/huggingface-bert/bert-base-uncased were not used when initializing BertForMaskedLM: ['bert.pooler.dense.bias', 'bert.pooler.dense.weight', 'cls.seq_relationship.bias', 'cls.seq_relationship.weight']\n- This IS expected if you are initializing BertForMaskedLM from the checkpoint of a model trained on another task or with another architecture (e.g. initializing a BertForSequenceClassification model from a BertForPreTraining model).\n- This IS NOT expected if you are initializing BertForMaskedLM from the checkpoint of a model that you expect to be exactly identical (initializing a BertForSequenceClassification model from a BertForSequenceClassification model).\n",
          "output_type": "stream"
        }
      ],
      "execution_count": null
    },
    {
      "cell_type": "code",
      "source": [
        "def build_phrase_token_id_map(tokenizer, terms):\n",
        "    phrase_token_seqs = []\n",
        "    for term in terms:\n",
        "        token_ids = tokenizer.encode(term, add_special_tokens=False)\n",
        "        phrase_token_seqs.append(token_ids)\n",
        "    return phrase_token_seqs"
      ],
      "metadata": {
        "trusted": true,
        "execution": {
          "iopub.status.busy": "2025-04-28T15:20:21.546520Z",
          "iopub.execute_input": "2025-04-28T15:20:21.546828Z",
          "iopub.status.idle": "2025-04-28T15:20:21.551261Z",
          "shell.execute_reply.started": "2025-04-28T15:20:21.546795Z",
          "shell.execute_reply": "2025-04-28T15:20:21.550372Z"
        },
        "id": "zJ_T7NgO5afL"
      },
      "outputs": [],
      "execution_count": null
    },
    {
      "cell_type": "code",
      "source": [
        "phrase_token_seqs = build_phrase_token_id_map(tokenizer, specific_terms_to_mask)\n"
      ],
      "metadata": {
        "trusted": true,
        "execution": {
          "iopub.status.busy": "2025-04-28T15:20:21.552216Z",
          "iopub.execute_input": "2025-04-28T15:20:21.552598Z",
          "iopub.status.idle": "2025-04-28T15:20:21.600883Z",
          "shell.execute_reply.started": "2025-04-28T15:20:21.552570Z",
          "shell.execute_reply": "2025-04-28T15:20:21.600213Z"
        },
        "id": "iniRfvX-5afL"
      },
      "outputs": [],
      "execution_count": null
    },
    {
      "cell_type": "code",
      "source": [
        "from datasets import concatenate_datasets\n",
        "\n",
        "combined_dataset = concatenate_datasets([train_dataset, eval_dataset])\n",
        "combined_dataset"
      ],
      "metadata": {
        "trusted": true,
        "execution": {
          "iopub.status.busy": "2025-04-28T15:20:21.601609Z",
          "iopub.execute_input": "2025-04-28T15:20:21.601868Z",
          "iopub.status.idle": "2025-04-28T15:20:21.613861Z",
          "shell.execute_reply.started": "2025-04-28T15:20:21.601850Z",
          "shell.execute_reply": "2025-04-28T15:20:21.613167Z"
        },
        "id": "1fOUxExA5afL",
        "outputId": "0707f357-6b4f-4b52-9d21-bfa6dfc25aaa"
      },
      "outputs": [
        {
          "execution_count": 13,
          "output_type": "execute_result",
          "data": {
            "text/plain": "Dataset({\n    features: ['pn_num', 'case_num', 'pn_history'],\n    num_rows: 35777\n})"
          },
          "metadata": {}
        }
      ],
      "execution_count": null
    },
    {
      "cell_type": "code",
      "source": [
        "def tokenize_function(examples):\n",
        "    result = tokenizer(examples[\"pn_history\"])\n",
        "    return result\n",
        "\n",
        "\n",
        "# Use batched=True to activate fast multithreading!\n",
        "tokenized_datasets = combined_dataset.map(\n",
        "    tokenize_function, batched=True, remove_columns=[\"pn_num\", \"case_num\", \"pn_history\"]\n",
        ")\n",
        "\n",
        "\n",
        "print(tokenized_datasets)"
      ],
      "metadata": {
        "trusted": true,
        "execution": {
          "iopub.status.busy": "2025-04-28T15:20:21.614621Z",
          "iopub.execute_input": "2025-04-28T15:20:21.614873Z",
          "iopub.status.idle": "2025-04-28T15:20:33.284391Z",
          "shell.execute_reply.started": "2025-04-28T15:20:21.614843Z",
          "shell.execute_reply": "2025-04-28T15:20:33.283528Z"
        },
        "colab": {
          "referenced_widgets": [
            "dd4bf01047dc4dff90bed117804a779b"
          ]
        },
        "id": "onNEQgC35afM",
        "outputId": "ba1ebe0b-bb4d-41db-f3b4-62efbe1e0f81"
      },
      "outputs": [
        {
          "output_type": "display_data",
          "data": {
            "text/plain": "Map:   0%|          | 0/35777 [00:00<?, ? examples/s]",
            "application/vnd.jupyter.widget-view+json": {
              "version_major": 2,
              "version_minor": 0,
              "model_id": "dd4bf01047dc4dff90bed117804a779b"
            }
          },
          "metadata": {}
        },
        {
          "name": "stdout",
          "text": "Dataset({\n    features: ['input_ids', 'token_type_ids', 'attention_mask'],\n    num_rows: 35777\n})\n",
          "output_type": "stream"
        }
      ],
      "execution_count": null
    },
    {
      "cell_type": "code",
      "source": [
        "# print(\"Tokens:\", tokenizer.convert_ids_to_tokens(tokenized_datasets[\"input_ids\"][0]))\n",
        "# print(\"Word IDs:\", tokenized_datasets[\"word_ids\"][0])\n"
      ],
      "metadata": {
        "trusted": true,
        "execution": {
          "iopub.status.busy": "2025-04-28T15:20:33.285346Z",
          "iopub.execute_input": "2025-04-28T15:20:33.285635Z",
          "iopub.status.idle": "2025-04-28T15:20:33.288892Z",
          "shell.execute_reply.started": "2025-04-28T15:20:33.285606Z",
          "shell.execute_reply": "2025-04-28T15:20:33.288116Z"
        },
        "id": "xUE5G-A75afM"
      },
      "outputs": [],
      "execution_count": null
    },
    {
      "cell_type": "code",
      "source": [
        "def group_texts(examples):\n",
        "    # Concatenate all texts\n",
        "    concatenated_examples = {k: sum(examples[k], []) for k in examples.keys()}\n",
        "    # Compute length of concatenated texts\n",
        "    total_length = len(concatenated_examples[list(examples.keys())[0]])\n",
        "    # We drop the last chunk if it's smaller than chunk_size\n",
        "    total_length = (total_length // chunk_size) * chunk_size\n",
        "    # Split by chunks of max_len\n",
        "    result = {\n",
        "        k: [t[i : i + chunk_size] for i in range(0, total_length, chunk_size)]\n",
        "        for k, t in concatenated_examples.items()\n",
        "    }\n",
        "    # Create a new labels column\n",
        "    result[\"labels\"] = result[\"input_ids\"].copy()\n",
        "    return result"
      ],
      "metadata": {
        "trusted": true,
        "execution": {
          "iopub.status.busy": "2025-04-28T15:20:33.289614Z",
          "iopub.execute_input": "2025-04-28T15:20:33.289821Z",
          "iopub.status.idle": "2025-04-28T15:20:33.303824Z",
          "shell.execute_reply.started": "2025-04-28T15:20:33.289802Z",
          "shell.execute_reply": "2025-04-28T15:20:33.303035Z"
        },
        "id": "lcj50PQi5afM"
      },
      "outputs": [],
      "execution_count": null
    },
    {
      "cell_type": "code",
      "source": [
        "lm_datasets = tokenized_datasets.map(group_texts, batched=True)\n",
        "print(lm_datasets)"
      ],
      "metadata": {
        "trusted": true,
        "execution": {
          "iopub.status.busy": "2025-04-28T15:20:33.304776Z",
          "iopub.execute_input": "2025-04-28T15:20:33.304989Z",
          "iopub.status.idle": "2025-04-28T15:21:24.745621Z",
          "shell.execute_reply.started": "2025-04-28T15:20:33.304970Z",
          "shell.execute_reply": "2025-04-28T15:21:24.744903Z"
        },
        "colab": {
          "referenced_widgets": [
            "bede06756b034d48bdb468d4ac850dbe"
          ]
        },
        "id": "ytSqMRQi5afN",
        "outputId": "77609034-1fa6-49da-bdb0-bf951b813c94"
      },
      "outputs": [
        {
          "output_type": "display_data",
          "data": {
            "text/plain": "Map:   0%|          | 0/35777 [00:00<?, ? examples/s]",
            "application/vnd.jupyter.widget-view+json": {
              "version_major": 2,
              "version_minor": 0,
              "model_id": "bede06756b034d48bdb468d4ac850dbe"
            }
          },
          "metadata": {}
        },
        {
          "name": "stdout",
          "text": "Dataset({\n    features: ['input_ids', 'token_type_ids', 'attention_mask', 'labels'],\n    num_rows: 56612\n})\n",
          "output_type": "stream"
        }
      ],
      "execution_count": null
    },
    {
      "cell_type": "code",
      "source": [
        "from transformers import default_data_collator\n",
        "from collections import defaultdict\n",
        "\n",
        "def multi_token_masking_data_collator(tokenizer, phrase_token_seqs):\n",
        "    mask_token_id = tokenizer.mask_token_id\n",
        "\n",
        "    def collator(features):\n",
        "        for feature in features:\n",
        "            input_ids = feature[\"input_ids\"]\n",
        "            labels = feature[\"labels\"]\n",
        "            # word_ids no longer needed\n",
        "            feature.pop(\"word_ids\", None)\n",
        "\n",
        "            new_labels = [-100] * len(labels)\n",
        "            matched_indices = set()\n",
        "\n",
        "            # Match each phrase span\n",
        "            for phrase_ids in phrase_token_seqs:\n",
        "                length = len(phrase_ids)\n",
        "                for i in range(len(input_ids) - length + 1):\n",
        "                    if input_ids[i:i + length] == phrase_ids:\n",
        "                        matched_indices.update(range(i, i + length))\n",
        "\n",
        "            for idx in matched_indices:\n",
        "                new_labels[idx] = labels[idx]\n",
        "                input_ids[idx] = mask_token_id\n",
        "\n",
        "            feature[\"labels\"] = new_labels\n",
        "\n",
        "        return default_data_collator(features)\n",
        "\n",
        "    return collator\n",
        "\n",
        "\n",
        "data_collator = multi_token_masking_data_collator(tokenizer, phrase_token_seqs)"
      ],
      "metadata": {
        "trusted": true,
        "execution": {
          "iopub.status.busy": "2025-04-28T15:21:24.746417Z",
          "iopub.execute_input": "2025-04-28T15:21:24.746647Z",
          "iopub.status.idle": "2025-04-28T15:21:24.752475Z",
          "shell.execute_reply.started": "2025-04-28T15:21:24.746616Z",
          "shell.execute_reply": "2025-04-28T15:21:24.751694Z"
        },
        "id": "TxUYF9245afN"
      },
      "outputs": [],
      "execution_count": null
    },
    {
      "cell_type": "code",
      "source": [
        "# 5. Example usage: inspect masking\n",
        "samples = [lm_datasets[i] for i in range(2)]  # sample few examples\n",
        "batch = data_collator(samples)\n",
        "\n",
        "for chunk in batch[\"input_ids\"]:\n",
        "    print(f\"\\n>>> {tokenizer.decode(chunk)}\")"
      ],
      "metadata": {
        "trusted": true,
        "execution": {
          "iopub.status.busy": "2025-04-28T15:21:24.753093Z",
          "iopub.execute_input": "2025-04-28T15:21:24.753318Z",
          "iopub.status.idle": "2025-04-28T15:21:24.778275Z",
          "shell.execute_reply.started": "2025-04-28T15:21:24.753299Z",
          "shell.execute_reply": "2025-04-28T15:21:24.777486Z"
        },
        "id": "wxq5oKB_5afN",
        "outputId": "156a8c19-327a-4790-ef24-e8086e10370b"
      },
      "outputs": [
        {
          "name": "stdout",
          "text": "\n>>> [CLS] [MASK]. suzanne powelton is a 20 y / o [MASK] that presents to the ed with abdominal pain that started 8 - 10 hours ago. patin has been constant, dull / achy, with severity of 5 / 10. patient states that pain is aggrevated with walking. [MASK] took 3 ibuprofen x 200 mg to help relieve the pain. patient denied any n / v, urinary burning or frequency. [MASK]. powelton denied checking [MASK] temperature at home to check for fever. patient ' s last sexual activity was 9 month ago and they used condoms. pmh : none, aller\n\n>>> ##gies : one, meds : none, hospitalization : no, urinary sx : none, gi sx : none, psych hx : none, family hx : none, ob - gyn : menarche at age 13 years, get it every 28 days for 4 days. uses tampons and pads 4 in the beginning and - 1 pad / tampon as [MASK] period continues. sexual hx : sexually active, last intercourse 9 month ago, used condom, no hx of std, soc : currently pre - med student studying biology, never smoker, no illicit drugs, alcohol 2\n",
          "output_type": "stream"
        }
      ],
      "execution_count": null
    },
    {
      "cell_type": "code",
      "source": [
        "train_data.iloc[0][\"pn_history\"]"
      ],
      "metadata": {
        "trusted": true,
        "execution": {
          "iopub.status.busy": "2025-04-28T15:21:24.779116Z",
          "iopub.execute_input": "2025-04-28T15:21:24.779381Z",
          "iopub.status.idle": "2025-04-28T15:21:24.791914Z",
          "shell.execute_reply.started": "2025-04-28T15:21:24.779350Z",
          "shell.execute_reply": "2025-04-28T15:21:24.791320Z"
        },
        "id": "s11cKV2D5afO",
        "outputId": "03f1c7d8-591f-4755-c5a5-8830ed9e65a0"
      },
      "outputs": [
        {
          "execution_count": 20,
          "output_type": "execute_result",
          "data": {
            "text/plain": "\"ms. suzanne powelton is a 20 y/o f that presents to the ed with abdominal pain that started 8-10 hours ago. patin has been constant, dull/achy, with severity of 5/10. patient states that pain is aggrevated with walking. she took 3 ibuprofen x 200 mg to help relieve the pain. patient denied any n/v, urinary burning or frequency. ms. powelton denied checking her temperature at home to check for fever. patient's last sexual activity was 9 month ago and they used condoms. pmh: none, allergies: one, meds: none, hospitalization: no, urinary sx: none, gi sx: none, psych hx: none, family hx: none, ob-gyn: menarche at age 13 years, get it every 28 days for 4 days. uses tampons and pads 4 in the beginning and -1 pad/tampon as her period continues. sexual hx: sexually active, last intercourse 9 month ago, used condom, no hx of std, soc: currently pre-med student studying biology, never smoker, no illicit drugs, alcohol 2x a month.\""
          },
          "metadata": {}
        }
      ],
      "execution_count": null
    },
    {
      "cell_type": "code",
      "source": [
        "new_dataset = lm_datasets.train_test_split(\n",
        "    train_size=0.8, test_size=0.2, seed=set_seed()\n",
        ")\n",
        "new_dataset"
      ],
      "metadata": {
        "trusted": true,
        "execution": {
          "iopub.status.busy": "2025-04-28T15:21:24.792819Z",
          "iopub.execute_input": "2025-04-28T15:21:24.793042Z",
          "iopub.status.idle": "2025-04-28T15:21:24.823998Z",
          "shell.execute_reply.started": "2025-04-28T15:21:24.793025Z",
          "shell.execute_reply": "2025-04-28T15:21:24.823221Z"
        },
        "id": "yisfLVwX5afO",
        "outputId": "ad903f70-6108-4027-d4e2-dc3d548ded91"
      },
      "outputs": [
        {
          "execution_count": 21,
          "output_type": "execute_result",
          "data": {
            "text/plain": "DatasetDict({\n    train: Dataset({\n        features: ['input_ids', 'token_type_ids', 'attention_mask', 'labels'],\n        num_rows: 45289\n    })\n    test: Dataset({\n        features: ['input_ids', 'token_type_ids', 'attention_mask', 'labels'],\n        num_rows: 11323\n    })\n})"
          },
          "metadata": {}
        }
      ],
      "execution_count": null
    },
    {
      "cell_type": "code",
      "source": [
        "\n",
        "def compute_metrics(eval_preds):\n",
        "    logits, labels = eval_preds\n",
        "    # Convert logits to tensor and shift for alignment\n",
        "    if isinstance(logits, tuple):  # Trainer sometimes returns a tuple\n",
        "        logits = logits[0]\n",
        "\n",
        "    shift_logits = torch.tensor(logits, dtype=torch.float32).view(-1, logits.shape[-1])\n",
        "    shift_labels = torch.tensor(labels).view(-1)\n",
        "\n",
        "    # Mask out positions with label == -100 (i.e., positions we do not evaluate)\n",
        "    loss_mask = shift_labels != -100\n",
        "    shift_logits = shift_logits[loss_mask]\n",
        "    shift_labels = shift_labels[loss_mask]\n",
        "\n",
        "    # Compute cross-entropy loss manually\n",
        "    loss_fn = torch.nn.CrossEntropyLoss()\n",
        "    loss = loss_fn(shift_logits, shift_labels)\n",
        "\n",
        "    # Compute perplexity\n",
        "    perplexity = torch.exp(loss).item()\n",
        "\n",
        "    return {\"perplexity\": perplexity}\n"
      ],
      "metadata": {
        "trusted": true,
        "execution": {
          "iopub.status.busy": "2025-04-28T15:21:24.824932Z",
          "iopub.execute_input": "2025-04-28T15:21:24.825229Z",
          "iopub.status.idle": "2025-04-28T15:21:24.829632Z",
          "shell.execute_reply.started": "2025-04-28T15:21:24.825202Z",
          "shell.execute_reply": "2025-04-28T15:21:24.828930Z"
        },
        "id": "8qKER2GY5afO"
      },
      "outputs": [],
      "execution_count": null
    },
    {
      "cell_type": "code",
      "source": [
        "training_args = TrainingArguments(\n",
        "    output_dir=\"/kaggle/working/mlm_finetuned_bert\",\n",
        "    evaluation_strategy=\"epoch\",\n",
        "    save_strategy=\"epoch\",\n",
        "    logging_strategy=\"epoch\",\n",
        "    #logging_steps=1000,\n",
        "    learning_rate=2e-5,\n",
        "    per_device_train_batch_size=6,\n",
        "    per_device_eval_batch_size=2,\n",
        "    gradient_accumulation_steps=4,\n",
        "    num_train_epochs=4,\n",
        "    weight_decay=0.01,\n",
        "    report_to=\"none\",  # disable wandb\n",
        "    fp16 = torch.cuda.is_available(),\n",
        "    load_best_model_at_end=True,\n",
        ")"
      ],
      "metadata": {
        "trusted": true,
        "execution": {
          "iopub.status.busy": "2025-04-28T15:21:24.830376Z",
          "iopub.execute_input": "2025-04-28T15:21:24.830637Z",
          "iopub.status.idle": "2025-04-28T15:21:24.898890Z",
          "shell.execute_reply.started": "2025-04-28T15:21:24.830607Z",
          "shell.execute_reply": "2025-04-28T15:21:24.898073Z"
        },
        "id": "DVlrRBED5afP",
        "outputId": "fbb05cd5-7ee4-4b4e-8f6d-a8d4ef4af85f"
      },
      "outputs": [
        {
          "name": "stderr",
          "text": "/usr/local/lib/python3.10/dist-packages/transformers/training_args.py:1575: FutureWarning: `evaluation_strategy` is deprecated and will be removed in version 4.46 of 🤗 Transformers. Use `eval_strategy` instead\n  warnings.warn(\n",
          "output_type": "stream"
        }
      ],
      "execution_count": null
    },
    {
      "cell_type": "code",
      "source": [
        "#tiny_train_dataset = new_dataset[\"train\"].shuffle(seed=set_seed()).select(range(100))\n",
        "tiny_eval_dataset = new_dataset[\"test\"].shuffle(seed=set_seed()).select(range(40))"
      ],
      "metadata": {
        "trusted": true,
        "execution": {
          "iopub.status.busy": "2025-04-28T15:21:24.902633Z",
          "iopub.execute_input": "2025-04-28T15:21:24.902851Z",
          "iopub.status.idle": "2025-04-28T15:21:24.931577Z",
          "shell.execute_reply.started": "2025-04-28T15:21:24.902832Z",
          "shell.execute_reply": "2025-04-28T15:21:24.930739Z"
        },
        "id": "BjZdh2Z85afP"
      },
      "outputs": [],
      "execution_count": null
    },
    {
      "cell_type": "code",
      "source": [
        "trainer = Trainer(\n",
        "    model=model,\n",
        "    args=training_args,\n",
        "    train_dataset= new_dataset[\"train\"],\n",
        "    eval_dataset= tiny_eval_dataset,\n",
        "    tokenizer=tokenizer,\n",
        "    data_collator=data_collator,\n",
        "    compute_metrics=compute_metrics,\n",
        ")"
      ],
      "metadata": {
        "trusted": true,
        "execution": {
          "iopub.status.busy": "2025-04-28T15:21:24.933574Z",
          "iopub.execute_input": "2025-04-28T15:21:24.933780Z",
          "iopub.status.idle": "2025-04-28T15:21:25.222544Z",
          "shell.execute_reply.started": "2025-04-28T15:21:24.933762Z",
          "shell.execute_reply": "2025-04-28T15:21:25.221609Z"
        },
        "id": "w3TWbVjT5afP",
        "outputId": "7d47537d-69dd-4664-c236-3e5750309ec0"
      },
      "outputs": [
        {
          "name": "stderr",
          "text": "<ipython-input-25-111a03fddb7a>:1: FutureWarning: `tokenizer` is deprecated and will be removed in version 5.0.0 for `Trainer.__init__`. Use `processing_class` instead.\n  trainer = Trainer(\n",
          "output_type": "stream"
        }
      ],
      "execution_count": null
    },
    {
      "cell_type": "code",
      "source": [
        "print(\"🚀 Starting training...\")\n",
        "train_result = trainer.train()\n",
        "print(\"✅ Training finished.\")"
      ],
      "metadata": {
        "trusted": true,
        "execution": {
          "iopub.status.busy": "2025-04-28T15:21:25.223417Z",
          "iopub.execute_input": "2025-04-28T15:21:25.223656Z",
          "iopub.status.idle": "2025-04-28T15:21:49.817328Z",
          "shell.execute_reply.started": "2025-04-28T15:21:25.223627Z",
          "shell.execute_reply": "2025-04-28T15:21:49.816616Z"
        },
        "id": "sAc3ha9-5afP",
        "outputId": "070b70d8-e567-4baa-ac18-a0e2ee31296f"
      },
      "outputs": [
        {
          "name": "stdout",
          "text": "🚀 Starting training...\n",
          "output_type": "stream"
        },
        {
          "output_type": "display_data",
          "data": {
            "text/plain": "<IPython.core.display.HTML object>",
            "text/html": "\n    <div>\n      \n      <progress value='16' max='16' style='width:300px; height:20px; vertical-align: middle;'></progress>\n      [16/16 00:23, Epoch 3/4]\n    </div>\n    <table border=\"1\" class=\"dataframe\">\n  <thead>\n <tr style=\"text-align: left;\">\n      <th>Epoch</th>\n      <th>Training Loss</th>\n      <th>Validation Loss</th>\n      <th>Perplexity</th>\n    </tr>\n  </thead>\n  <tbody>\n    <tr>\n      <td>1</td>\n      <td>3.752700</td>\n      <td>3.279220</td>\n      <td>20.314646</td>\n    </tr>\n    <tr>\n      <td>2</td>\n      <td>2.520900</td>\n      <td>1.295153</td>\n      <td>3.335878</td>\n    </tr>\n    <tr>\n      <td>3</td>\n      <td>0.955500</td>\n      <td>0.850231</td>\n      <td>2.216647</td>\n    </tr>\n  </tbody>\n</table><p>"
          },
          "metadata": {}
        },
        {
          "name": "stderr",
          "text": "There were missing keys in the checkpoint model loaded: ['cls.predictions.decoder.weight', 'cls.predictions.decoder.bias'].\n",
          "output_type": "stream"
        },
        {
          "name": "stdout",
          "text": "✅ Training finished.\n",
          "output_type": "stream"
        }
      ],
      "execution_count": null
    },
    {
      "cell_type": "code",
      "source": [
        "# --- Save Training Metrics and Final Model ---\n",
        "trainer.save_model()  # Saves the tokenizer too\n",
        "metrics = train_result.metrics\n",
        "trainer.log_metrics(\"train\", metrics)\n",
        "trainer.save_metrics(\"train\", metrics)\n",
        "trainer.save_state()\n"
      ],
      "metadata": {
        "trusted": true,
        "execution": {
          "iopub.status.busy": "2025-04-28T15:21:49.818022Z",
          "iopub.execute_input": "2025-04-28T15:21:49.818284Z",
          "iopub.status.idle": "2025-04-28T15:21:50.897322Z",
          "shell.execute_reply.started": "2025-04-28T15:21:49.818264Z",
          "shell.execute_reply": "2025-04-28T15:21:50.896565Z"
        },
        "id": "FRrsZsmt5afQ",
        "outputId": "bf3c42df-5633-4e53-bbb5-5f7dd60a5a67"
      },
      "outputs": [
        {
          "name": "stdout",
          "text": "***** train metrics *****\n  epoch                    =     3.2353\n  total_flos               =    19855GF\n  train_loss               =     2.4034\n  train_runtime            = 0:00:24.26\n  train_samples_per_second =     16.486\n  train_steps_per_second   =      0.659\n",
          "output_type": "stream"
        }
      ],
      "execution_count": null
    },
    {
      "cell_type": "code",
      "source": [
        "# --- Evaluate the Model ---\n",
        "print(\"\\nEvaluating model...\")\n",
        "eval_results = trainer.evaluate()\n",
        "print(f\"Evaluation results: {eval_results}\")\n",
        "trainer.log_metrics(\"eval\", eval_results)\n",
        "trainer.save_metrics(\"eval\", eval_results)\n"
      ],
      "metadata": {
        "trusted": true,
        "execution": {
          "iopub.status.busy": "2025-04-28T15:21:50.898101Z",
          "iopub.execute_input": "2025-04-28T15:21:50.898329Z",
          "iopub.status.idle": "2025-04-28T15:21:52.633645Z",
          "shell.execute_reply.started": "2025-04-28T15:21:50.898302Z",
          "shell.execute_reply": "2025-04-28T15:21:52.632839Z"
        },
        "id": "wwsn1hWe5afQ",
        "outputId": "914bb198-64a7-4343-c4ac-a4a709d51823"
      },
      "outputs": [
        {
          "name": "stdout",
          "text": "\nEvaluating model...\n",
          "output_type": "stream"
        },
        {
          "output_type": "display_data",
          "data": {
            "text/plain": "<IPython.core.display.HTML object>",
            "text/html": "\n    <div>\n      \n      <progress value='20' max='20' style='width:300px; height:20px; vertical-align: middle;'></progress>\n      [20/20 00:00]\n    </div>\n    "
          },
          "metadata": {}
        },
        {
          "name": "stdout",
          "text": "Evaluation results: {'eval_loss': 0.8502313494682312, 'eval_perplexity': 2.216646909713745, 'eval_runtime': 1.2872, 'eval_samples_per_second': 31.075, 'eval_steps_per_second': 15.538, 'epoch': 3.235294117647059}\n***** eval metrics *****\n  epoch                   =     3.2353\n  eval_loss               =     0.8502\n  eval_perplexity         =     2.2166\n  eval_runtime            = 0:00:01.28\n  eval_samples_per_second =     31.075\n  eval_steps_per_second   =     15.538\n",
          "output_type": "stream"
        }
      ],
      "execution_count": null
    },
    {
      "cell_type": "code",
      "source": [
        "log_history = trainer.state.log_history\n",
        "log_df = pd.DataFrame(log_history)"
      ],
      "metadata": {
        "trusted": true,
        "execution": {
          "iopub.status.busy": "2025-04-28T15:21:52.634476Z",
          "iopub.execute_input": "2025-04-28T15:21:52.634763Z",
          "iopub.status.idle": "2025-04-28T15:21:52.639733Z",
          "shell.execute_reply.started": "2025-04-28T15:21:52.634742Z",
          "shell.execute_reply": "2025-04-28T15:21:52.638809Z"
        },
        "id": "9t2UGYUJ5afR"
      },
      "outputs": [],
      "execution_count": null
    },
    {
      "cell_type": "code",
      "source": [
        "import matplotlib.pyplot as plt\n",
        "\n",
        "# Split log data\n",
        "train_loss_df = log_df[log_df['loss'].notna()]\n",
        "eval_loss_df = log_df[log_df['eval_loss'].notna() | log_df['eval_perplexity'].notna()]\n",
        "\n",
        "# Plot Training + Eval Loss\n",
        "plt.figure(figsize=(10, 5))\n",
        "plt.plot(train_loss_df['step'], train_loss_df['loss'], label='Training Loss', color='blue')\n",
        "plt.plot(eval_loss_df['step'], eval_loss_df['eval_loss'], label='Validation Loss', color='orange')\n",
        "plt.xlabel(\"Step\")\n",
        "plt.ylabel(\"Loss\")\n",
        "plt.title(\"Training and Validation Loss Over Steps\")\n",
        "plt.legend()\n",
        "plt.grid(True)\n",
        "plt.tight_layout()\n",
        "plt.show()\n"
      ],
      "metadata": {
        "trusted": true,
        "execution": {
          "iopub.status.busy": "2025-04-28T15:21:52.640437Z",
          "iopub.execute_input": "2025-04-28T15:21:52.640621Z",
          "iopub.status.idle": "2025-04-28T15:21:54.118100Z",
          "shell.execute_reply.started": "2025-04-28T15:21:52.640605Z",
          "shell.execute_reply": "2025-04-28T15:21:54.117211Z"
        },
        "id": "1gDzWInO5afS",
        "outputId": "6df3406b-0ed6-4aa6-bace-d1e5f012fb84"
      },
      "outputs": [
        {
          "output_type": "display_data",
          "data": {
            "text/plain": "<Figure size 1000x500 with 1 Axes>",
            "image/png": "[encoded data removed]"
          },
          "metadata": {}
        }
      ],
      "execution_count": null
    },
    {
      "cell_type": "code",
      "source": [
        "# Plot Perplexity + Eval Loss\n",
        "plt.figure(figsize=(10, 5))\n",
        "#plt.plot(eval_loss_df['step'], eval_loss_df['eval_loss'], label='Validation Loss', color='orange')\n",
        "plt.plot(eval_loss_df['step'], eval_loss_df['eval_perplexity'], label='Validation Perplexity', color='green')\n",
        "plt.xlabel(\"Step\")\n",
        "plt.ylabel(\"Value\")\n",
        "plt.title(\"Perplexity Over Steps\")\n",
        "plt.legend()\n",
        "plt.grid(True)\n",
        "plt.tight_layout()\n",
        "plt.show()\n"
      ],
      "metadata": {
        "trusted": true,
        "execution": {
          "iopub.status.busy": "2025-04-28T15:21:54.118863Z",
          "iopub.execute_input": "2025-04-28T15:21:54.119074Z",
          "iopub.status.idle": "2025-04-28T15:21:55.130119Z",
          "shell.execute_reply.started": "2025-04-28T15:21:54.119057Z",
          "shell.execute_reply": "2025-04-28T15:21:55.129222Z"
        },
        "id": "O6K2QUkq5afS",
        "outputId": "11e86d8d-4ff8-4a34-bbf1-ac5a9b7916db"
      },
      "outputs": [
        {
          "output_type": "display_data",
          "data": {
            "text/plain": "<Figure size 1000x500 with 1 Axes>",
            "image/png": "[encoded data removed]"
          },
          "metadata": {}
        }
      ],
      "execution_count": null
    },
    {
      "cell_type": "markdown",
      "source": [
        "##                                  BIAS ANALYSIS"
      ],
      "metadata": {
        "id": "4UzqMa5F5afT"
      }
    },
    {
      "cell_type": "code",
      "source": [
        "test_data[\"gender\"] = test_data[\"case_num\"].apply(lambda x: \"male\" if x == 0 else (\"female\" if x == 7 else None))\n",
        "test_data[\"gender\"].value_counts()"
      ],
      "metadata": {
        "trusted": true,
        "execution": {
          "iopub.status.busy": "2025-04-28T15:21:55.131056Z",
          "iopub.execute_input": "2025-04-28T15:21:55.131342Z",
          "iopub.status.idle": "2025-04-28T15:22:07.483264Z",
          "shell.execute_reply.started": "2025-04-28T15:21:55.131309Z",
          "shell.execute_reply": "2025-04-28T15:22:07.482375Z"
        },
        "id": "nz0YHX5s5afT",
        "outputId": "8b2f6669-a03a-47d6-e049-08ce90ff9ad9"
      },
      "outputs": [
        {
          "name": "stderr",
          "text": "<ipython-input-32-f27b4e6b8716>:1: SettingWithCopyWarning: \nA value is trying to be set on a copy of a slice from a DataFrame.\nTry using .loc[row_indexer,col_indexer] = value instead\n\nSee the caveats in the documentation: https://pandas.pydata.org/pandas-docs/stable/user_guide/indexing.html#returning-a-view-versus-a-copy\n  test_data[\"gender\"] = test_data[\"case_num\"].apply(lambda x: \"male\" if x == 0 else (\"female\" if x == 7 else None))\n",
          "output_type": "stream"
        },
        {
          "execution_count": 32,
          "output_type": "execute_result",
          "data": {
            "text/plain": "gender\nfemale    4101\nmale      2268\nName: count, dtype: int64"
          },
          "metadata": {}
        }
      ],
      "execution_count": null
    },
    {
      "cell_type": "code",
      "source": [
        "import re\n",
        "\n",
        "def mask_tokens(text, tokens_to_mask, mask_token=\"[MASK]\"):\n",
        "    \"\"\"\n",
        "    Masks specified tokens in the text if they are present.\n",
        "\n",
        "\n",
        "    Args:\n",
        "        text (str): The input text (already lowercase).\n",
        "        tokens_to_mask (list): List of tokens to mask (already lowercase).\n",
        "        mask_token (str): The token to use for masking (default is \"[MASK]\").\n",
        "\n",
        "    Returns:\n",
        "        str: The text with specified tokens masked.\n",
        "    \"\"\"\n",
        "    # Sort tokens by length (longest first) to handle multi-word tokens\n",
        "    tokens_to_mask = sorted(tokens_to_mask, key=len, reverse=True)\n",
        "\n",
        "    # Mask each token\n",
        "    for token in tokens_to_mask:\n",
        "        # Use regex to match whole words only\n",
        "        text = re.sub(rf\"\\b{re.escape(token)}\\b\", mask_token, text)\n",
        "\n",
        "    return text"
      ],
      "metadata": {
        "trusted": true,
        "execution": {
          "iopub.status.busy": "2025-04-28T15:22:07.484008Z",
          "iopub.execute_input": "2025-04-28T15:22:07.484300Z",
          "iopub.status.idle": "2025-04-28T15:22:08.217750Z",
          "shell.execute_reply.started": "2025-04-28T15:22:07.484265Z",
          "shell.execute_reply": "2025-04-28T15:22:08.216876Z"
        },
        "id": "cekPGAwo5afT"
      },
      "outputs": [],
      "execution_count": null
    },
    {
      "cell_type": "code",
      "source": [
        "test_data[\"masked_text\"] = test_data[\"pn_history\"].apply(\n",
        "    lambda x: mask_tokens(x, gender_terms))"
      ],
      "metadata": {
        "trusted": true,
        "execution": {
          "iopub.status.busy": "2025-04-28T15:22:08.218680Z",
          "iopub.execute_input": "2025-04-28T15:22:08.219002Z",
          "iopub.status.idle": "2025-04-28T15:22:10.595604Z",
          "shell.execute_reply.started": "2025-04-28T15:22:08.218971Z",
          "shell.execute_reply": "2025-04-28T15:22:10.594780Z"
        },
        "id": "zzmw_-dy5afT",
        "outputId": "4a8484f0-8e22-41a4-c434-e49c11f5ab54"
      },
      "outputs": [
        {
          "name": "stderr",
          "text": "<ipython-input-34-bea378894b0f>:1: SettingWithCopyWarning: \nA value is trying to be set on a copy of a slice from a DataFrame.\nTry using .loc[row_indexer,col_indexer] = value instead\n\nSee the caveats in the documentation: https://pandas.pydata.org/pandas-docs/stable/user_guide/indexing.html#returning-a-view-versus-a-copy\n  test_data[\"masked_text\"] = test_data[\"pn_history\"].apply(\n",
          "output_type": "stream"
        }
      ],
      "execution_count": null
    },
    {
      "cell_type": "code",
      "source": [
        "test_data.head(3)"
      ],
      "metadata": {
        "trusted": true,
        "execution": {
          "iopub.status.busy": "2025-04-28T15:22:10.596350Z",
          "iopub.execute_input": "2025-04-28T15:22:10.596571Z",
          "iopub.status.idle": "2025-04-28T15:22:10.615074Z",
          "shell.execute_reply.started": "2025-04-28T15:22:10.596552Z",
          "shell.execute_reply": "2025-04-28T15:22:10.614232Z"
        },
        "id": "xqMcZkre5afh",
        "outputId": "80fcd0c4-2ca3-477a-e357-7a6fb1a46fbd"
      },
      "outputs": [
        {
          "execution_count": 35,
          "output_type": "execute_result",
          "data": {
            "text/plain": "   pn_num  case_num                                         pn_history gender  \\\n0       0         0  17-year-old male, has come to the student heal...   male   \n1       1         0  17 yo male with recurrent palpitations for the...   male   \n2       2         0  dillon cleveland is a 17 y.o. male patient wit...   male   \n\n                                         masked_text  \n0  17-year-old [MASK], has come to the student he...  \n1  17 yo [MASK] with recurrent palpitations for t...  \n2  dillon cleveland is a 17 y.o. [MASK] patient w...  ",
            "text/html": "<div>\n<style scoped>\n    .dataframe tbody tr th:only-of-type {\n        vertical-align: middle;\n    }\n\n    .dataframe tbody tr th {\n        vertical-align: top;\n    }\n\n    .dataframe thead th {\n        text-align: right;\n    }\n</style>\n<table border=\"1\" class=\"dataframe\">\n  <thead>\n    <tr style=\"text-align: right;\">\n      <th></th>\n      <th>pn_num</th>\n      <th>case_num</th>\n      <th>pn_history</th>\n      <th>gender</th>\n      <th>masked_text</th>\n    </tr>\n  </thead>\n  <tbody>\n    <tr>\n      <th>0</th>\n      <td>0</td>\n      <td>0</td>\n      <td>17-year-old male, has come to the student heal...</td>\n      <td>male</td>\n      <td>17-year-old [MASK], has come to the student he...</td>\n    </tr>\n    <tr>\n      <th>1</th>\n      <td>1</td>\n      <td>0</td>\n      <td>17 yo male with recurrent palpitations for the...</td>\n      <td>male</td>\n      <td>17 yo [MASK] with recurrent palpitations for t...</td>\n    </tr>\n    <tr>\n      <th>2</th>\n      <td>2</td>\n      <td>0</td>\n      <td>dillon cleveland is a 17 y.o. male patient wit...</td>\n      <td>male</td>\n      <td>dillon cleveland is a 17 y.o. [MASK] patient w...</td>\n    </tr>\n  </tbody>\n</table>\n</div>"
          },
          "metadata": {}
        }
      ],
      "execution_count": null
    },
    {
      "cell_type": "code",
      "source": [
        "# Filter rows where \"masked_text\" does not contain \"[MASK]\"\n",
        "missing_mask_rows = test_data[~test_data[\"masked_text\"].str.contains(r\"\\[MASK\\]\", regex=True, na=False)]\n",
        "print(f\"Number of rows without [MASK]: {len(missing_mask_rows)}\")\n",
        "test_data = test_data[test_data[\"masked_text\"].str.contains(r\"\\[MASK\\]\", regex=True, na=False)].reset_index(drop=True)\n",
        "print(f\"New dataset size after removal: {len(test_data)}\")"
      ],
      "metadata": {
        "trusted": true,
        "execution": {
          "iopub.status.busy": "2025-04-28T15:22:10.615768Z",
          "iopub.execute_input": "2025-04-28T15:22:10.615956Z",
          "iopub.status.idle": "2025-04-28T15:22:10.629135Z",
          "shell.execute_reply.started": "2025-04-28T15:22:10.615940Z",
          "shell.execute_reply": "2025-04-28T15:22:10.628538Z"
        },
        "id": "n0viw8LX5afi",
        "outputId": "b2a81a0e-b5c6-4268-bb0f-136f5775f901"
      },
      "outputs": [
        {
          "name": "stdout",
          "text": "Number of rows without [MASK]: 105\nNew dataset size after removal: 6264\n",
          "output_type": "stream"
        }
      ],
      "execution_count": null
    },
    {
      "cell_type": "code",
      "source": [
        "test_data[\"case_num\"].value_counts()"
      ],
      "metadata": {
        "trusted": true,
        "execution": {
          "iopub.status.busy": "2025-04-28T15:22:10.629887Z",
          "iopub.execute_input": "2025-04-28T15:22:10.630191Z",
          "iopub.status.idle": "2025-04-28T15:22:10.644380Z",
          "shell.execute_reply.started": "2025-04-28T15:22:10.630136Z",
          "shell.execute_reply": "2025-04-28T15:22:10.643536Z"
        },
        "id": "6Q_scrsa5afi",
        "outputId": "a42c9239-299e-4d49-e4df-5cb440e09e54"
      },
      "outputs": [
        {
          "execution_count": 37,
          "output_type": "execute_result",
          "data": {
            "text/plain": "case_num\n7    4046\n0    2218\nName: count, dtype: int64"
          },
          "metadata": {}
        }
      ],
      "execution_count": null
    },
    {
      "cell_type": "code",
      "source": [
        "#prediction\n",
        "model_path = \"/kaggle/working/mlm_finetuned_bert\"\n",
        "try:\n",
        "    tokenizer = AutoTokenizer.from_pretrained(model_path)\n",
        "    model = AutoModelForMaskedLM.from_pretrained(model_path)\n",
        "    print(f\"Successfully loaded model and tokenizer from {model_path}\")\n",
        "except Exception as e:\n",
        "    print(f\"Error loading model or tokenizer: {e}\")\n",
        "    exit()"
      ],
      "metadata": {
        "trusted": true,
        "execution": {
          "iopub.status.busy": "2025-04-28T15:22:11.138962Z",
          "iopub.execute_input": "2025-04-28T15:22:11.139223Z",
          "iopub.status.idle": "2025-04-28T15:22:11.436248Z",
          "shell.execute_reply.started": "2025-04-28T15:22:11.139189Z",
          "shell.execute_reply": "2025-04-28T15:22:11.435461Z"
        },
        "id": "WOGjXYPA5afi",
        "outputId": "7d9ede94-ca6a-4c1f-b930-e51de04ae42b"
      },
      "outputs": [
        {
          "name": "stdout",
          "text": "Successfully loaded model and tokenizer from /kaggle/working/mlm_finetuned_bert\n",
          "output_type": "stream"
        }
      ],
      "execution_count": null
    },
    {
      "cell_type": "code",
      "source": [
        "gender_term_ids = {}\n",
        "for term in set(gender_terms): # Use set to handle duplicates like 'his', 'hers'\n",
        "    # Tokenize the term without special tokens\n",
        "    tokenized_term = tokenizer.encode(term, add_special_tokens=False)\n",
        "\n",
        "    # Check if it tokenizes to exactly one token AND is not an unknown token\n",
        "    if len(tokenized_term) == 1 and tokenized_term[0] != tokenizer.unk_token_id:\n",
        "        gender_term_ids[tokenized_term[0]] = term # Map ID back to original string\n",
        "\n",
        "print(f\"\\nFound {len(gender_term_ids)} single-token gender terms in vocabulary:\")\n",
        "print(gender_term_ids)\n",
        "if not gender_term_ids:\n",
        "    print(\"Warning: No valid single-token gender terms found in vocabulary. Results will be all None.\")\n"
      ],
      "metadata": {
        "trusted": true,
        "execution": {
          "iopub.status.busy": "2025-04-28T15:22:11.437004Z",
          "iopub.execute_input": "2025-04-28T15:22:11.437260Z",
          "iopub.status.idle": "2025-04-28T15:22:11.444541Z",
          "shell.execute_reply.started": "2025-04-28T15:22:11.437239Z",
          "shell.execute_reply": "2025-04-28T15:22:11.443758Z"
        },
        "id": "pPPiPgNt5afj",
        "outputId": "b58bfada-c9e7-4180-89fe-f2c21012239b"
      },
      "outputs": [
        {
          "name": "stdout",
          "text": "\nFound 16 single-token gender terms in vocabulary:\n{2016: 'she', 3680: 'mrs', 2720: 'mr', 1042: 'f', 3287: 'male', 2158: 'man', 2450: 'woman', 2014: 'her', 2879: 'boy', 1049: 'm', 5106: 'hers', 5796: 'ms', 2931: 'female', 2010: 'his', 2611: 'girl', 2002: 'he'}\n",
          "output_type": "stream"
        }
      ],
      "execution_count": null
    },
    {
      "cell_type": "code",
      "source": [
        "device = torch.device(\"cuda\" if torch.cuda.is_available() else \"cpu\")\n",
        "model.to(device)\n",
        "model.eval()"
      ],
      "metadata": {
        "trusted": true,
        "execution": {
          "iopub.status.busy": "2025-04-28T15:22:11.445384Z",
          "iopub.execute_input": "2025-04-28T15:22:11.445634Z",
          "iopub.status.idle": "2025-04-28T15:22:11.608925Z",
          "shell.execute_reply.started": "2025-04-28T15:22:11.445604Z",
          "shell.execute_reply": "2025-04-28T15:22:11.608072Z"
        },
        "id": "WichzcaF5afj",
        "outputId": "3b20ab6e-65d0-43e7-f49b-2d912871de66"
      },
      "outputs": [
        {
          "execution_count": 41,
          "output_type": "execute_result",
          "data": {
            "text/plain": "BertForMaskedLM(\n  (bert): BertModel(\n    (embeddings): BertEmbeddings(\n      (word_embeddings): Embedding(30522, 768, padding_idx=0)\n      (position_embeddings): Embedding(512, 768)\n      (token_type_embeddings): Embedding(2, 768)\n      (LayerNorm): LayerNorm((768,), eps=1e-12, elementwise_affine=True)\n      (dropout): Dropout(p=0.1, inplace=False)\n    )\n    (encoder): BertEncoder(\n      (layer): ModuleList(\n        (0-11): 12 x BertLayer(\n          (attention): BertAttention(\n            (self): BertSdpaSelfAttention(\n              (query): Linear(in_features=768, out_features=768, bias=True)\n              (key): Linear(in_features=768, out_features=768, bias=True)\n              (value): Linear(in_features=768, out_features=768, bias=True)\n              (dropout): Dropout(p=0.1, inplace=False)\n            )\n            (output): BertSelfOutput(\n              (dense): Linear(in_features=768, out_features=768, bias=True)\n              (LayerNorm): LayerNorm((768,), eps=1e-12, elementwise_affine=True)\n              (dropout): Dropout(p=0.1, inplace=False)\n            )\n          )\n          (intermediate): BertIntermediate(\n            (dense): Linear(in_features=768, out_features=3072, bias=True)\n            (intermediate_act_fn): GELUActivation()\n          )\n          (output): BertOutput(\n            (dense): Linear(in_features=3072, out_features=768, bias=True)\n            (LayerNorm): LayerNorm((768,), eps=1e-12, elementwise_affine=True)\n            (dropout): Dropout(p=0.1, inplace=False)\n          )\n        )\n      )\n    )\n  )\n  (cls): BertOnlyMLMHead(\n    (predictions): BertLMPredictionHead(\n      (transform): BertPredictionHeadTransform(\n        (dense): Linear(in_features=768, out_features=768, bias=True)\n        (transform_act_fn): GELUActivation()\n        (LayerNorm): LayerNorm((768,), eps=1e-12, elementwise_affine=True)\n      )\n      (decoder): Linear(in_features=768, out_features=30522, bias=True)\n    )\n  )\n)"
          },
          "metadata": {}
        }
      ],
      "execution_count": null
    },
    {
      "cell_type": "code",
      "source": [
        "# --- Manual Inference and Scoring ---\n",
        "import torch.nn.functional as F\n",
        "from tqdm.auto import tqdm\n",
        "\n",
        "all_best_gender_predictions = []\n",
        "batch_size = 6 # Adjust based on your GPU memory\n",
        "\n",
        "# Process the DataFrame in batches\n",
        "for i in tqdm(range(0, len(test_data), batch_size), desc=\"Processing Batches\"):\n",
        "    batch_df = test_data.iloc[i : i + batch_size]\n",
        "    batch_texts = batch_df['masked_text'].tolist()\n",
        "\n",
        "    # --- Tokenization ---\n",
        "    # Return tensors, pad to the longest sequence in the batch, truncate if needed\n",
        "    # max_length should typically be the model's max sequence length (e.g., 512 for BERT)\n",
        "    inputs = tokenizer(batch_texts, return_tensors=\"pt\", padding=True, truncation=True, max_length=128)\n",
        "\n",
        "    # Move inputs to the correct device\n",
        "    inputs = {k: v.to(device) for k, v in inputs.items()}\n",
        "\n",
        "    # --- Model Forward Pass ---\n",
        "    with torch.no_grad(): # Disable gradient calculation for inference\n",
        "        outputs = model(**inputs)\n",
        "        logits = outputs.logits # Logits are the raw model outputs before softmax\n",
        "\n",
        "    # --- Process Logits to Find Best Gender Term for Each Mask ---\n",
        "    mask_token_id = tokenizer.mask_token_id\n",
        "    # The structure of results for the current batch\n",
        "    batch_gender_preds = []\n",
        "\n",
        "    # Iterate through each sequence (row) in the current batch\n",
        "    for seq_idx in range(inputs['input_ids'].size(0)):\n",
        "        sequence_input_ids = inputs['input_ids'][seq_idx]\n",
        "        sequence_logits = logits[seq_idx] # Logits for this single sequence\n",
        "\n",
        "        # Find indices of the mask token in this sequence\n",
        "        mask_indices = (sequence_input_ids == mask_token_id).nonzero(as_tuple=True)[0]\n",
        "\n",
        "        row_gender_preds = [] # Predictions for masks in this single row\n",
        "\n",
        "        # Process each mask in the current sequence\n",
        "        for mask_idx in mask_indices:\n",
        "            # Get logits specifically for this mask position\n",
        "            mask_logits = sequence_logits[mask_idx] # Shape: [vocab_size]\n",
        "\n",
        "            # Apply Softmax to get scores (probabilities) over the entire vocabulary\n",
        "            mask_scores = F.softmax(mask_logits, dim=-1) # Shape: [vocab_size]\n",
        "\n",
        "            # --- Find the best score among specific gender terms ---\n",
        "            best_gender_score_for_mask = -1.0\n",
        "            best_gender_token_str_for_mask = None\n",
        "\n",
        "            # Iterate through the gender term IDs we identified\n",
        "            for gender_id, gender_str in gender_term_ids.items():\n",
        "                 # Get the score for this specific gender token ID\n",
        "                 # .item() gets the scalar value from the tensor\n",
        "                 score = mask_scores[gender_id].item()\n",
        "\n",
        "                 # If this gender term has a higher score than the best found so far\n",
        "                 if score > best_gender_score_for_mask:\n",
        "                     best_gender_score_for_mask = score\n",
        "                     best_gender_token_str_for_mask = gender_str\n",
        "\n",
        "            # After checking all gender terms for this mask:\n",
        "            # Append the best match found, or {'token_str': None, 'score': None} if no valid gender terms were considered\n",
        "            # (which shouldn't happen if gender_term_ids is not empty, but good practice)\n",
        "            if best_gender_token_str_for_mask is not None:\n",
        "                 row_gender_preds.append({'token_str': best_gender_token_str_for_mask, 'score': best_gender_score_for_mask})\n",
        "            else:\n",
        "                 # This case happens if gender_term_ids was empty.\n",
        "                 # If a mask exists but no valid gender term could be checked:\n",
        "                 row_gender_preds.append({'token_str': None, 'score': None})\n",
        "\n",
        "\n",
        "        # Add the predictions for this row to the batch results\n",
        "        batch_gender_preds.append(row_gender_preds)\n",
        "\n",
        "    # Extend the overall results list with the batch results\n",
        "    all_best_gender_predictions.extend(batch_gender_preds)\n",
        "\n",
        "\n",
        "# --- Store the extracted predictions back into the DataFrame ---\n",
        "# For rows that had no masks, the corresponding entry in all_best_gender_predictions will be []\n",
        "test_data['gender_predictions'] = all_best_gender_predictions\n",
        "\n",
        "\n",
        "# # --- Display the results ---\n",
        "# print(\"\\nDataFrame with Best Gender Predictions (Manual Inference):\")\n",
        "# # Display the original text and the new predictions column\n",
        "# display(test_data[['masked_text', 'gender_predictions']])"
      ],
      "metadata": {
        "trusted": true,
        "execution": {
          "iopub.status.busy": "2025-04-28T15:22:11.609799Z",
          "iopub.execute_input": "2025-04-28T15:22:11.610072Z",
          "iopub.status.idle": "2025-04-28T15:22:54.686437Z",
          "shell.execute_reply.started": "2025-04-28T15:22:11.610039Z",
          "shell.execute_reply": "2025-04-28T15:22:54.685496Z"
        },
        "colab": {
          "referenced_widgets": [
            "6eca8e8470d340e6bc3839dc0156d403"
          ]
        },
        "id": "TcrUCh4U5afj",
        "outputId": "15a512db-6855-41b4-cb0e-7ba1d7e4f221"
      },
      "outputs": [
        {
          "output_type": "display_data",
          "data": {
            "text/plain": "Processing Batches:   0%|          | 0/1044 [00:00<?, ?it/s]",
            "application/vnd.jupyter.widget-view+json": {
              "version_major": 2,
              "version_minor": 0,
              "model_id": "6eca8e8470d340e6bc3839dc0156d403"
            }
          },
          "metadata": {}
        }
      ],
      "execution_count": null
    },
    {
      "cell_type": "code",
      "source": [
        "display(test_data[['masked_text', 'gender_predictions']])"
      ],
      "metadata": {
        "trusted": true,
        "execution": {
          "iopub.status.busy": "2025-04-28T15:22:54.687380Z",
          "iopub.execute_input": "2025-04-28T15:22:54.687707Z",
          "iopub.status.idle": "2025-04-28T15:22:54.707418Z",
          "shell.execute_reply.started": "2025-04-28T15:22:54.687676Z",
          "shell.execute_reply": "2025-04-28T15:22:54.706716Z"
        },
        "id": "8kR-VibP5afk",
        "outputId": "04c106d9-de44-47bf-931c-e98588821255"
      },
      "outputs": [
        {
          "output_type": "display_data",
          "data": {
            "text/plain": "                                            masked_text  \\\n0     17-year-old [MASK], has come to the student he...   \n1     17 yo [MASK] with recurrent palpitations for t...   \n2     dillon cleveland is a 17 y.o. [MASK] patient w...   \n3     a 17 yo [MASK] c/o palpitation started 3 mos a...   \n4     17yo [MASK] with no pmh here for evaluation of...   \n...                                                 ...   \n6259  35 years old [MASK] with heavy period, started...   \n6260  35 yo [MASK] co heavy periods since 6 mo ago p...   \n6261  35yo [MASK] with heavy menstrual periods x 6 [...   \n6262  patient is a 35 yo [MASK] with chief complaint...   \n6263  cc: irregular menses\\r\\nhpi: 35f g0 with irreg...   \n\n                                     gender_predictions  \n0     [{'token_str': 'f', 'score': 0.274052083492279...  \n1     [{'token_str': 'f', 'score': 0.215856716036796...  \n2     [{'token_str': 'f', 'score': 0.372954219579696...  \n3     [{'token_str': 'f', 'score': 0.553214967250824...  \n4     [{'token_str': 'f', 'score': 0.213511779904365...  \n...                                                 ...  \n6259  [{'token_str': 'woman', 'score': 0.17179535329...  \n6260  [{'token_str': 'f', 'score': 0.5350366234779358}]  \n6261  [{'token_str': 'f', 'score': 0.238779321312904...  \n6262  [{'token_str': 'woman', 'score': 0.45578390359...  \n6263  [{'token_str': 'she', 'score': 0.7751656770706...  \n\n[6264 rows x 2 columns]",
            "text/html": "<div>\n<style scoped>\n    .dataframe tbody tr th:only-of-type {\n        vertical-align: middle;\n    }\n\n    .dataframe tbody tr th {\n        vertical-align: top;\n    }\n\n    .dataframe thead th {\n        text-align: right;\n    }\n</style>\n<table border=\"1\" class=\"dataframe\">\n  <thead>\n    <tr style=\"text-align: right;\">\n      <th></th>\n      <th>masked_text</th>\n      <th>gender_predictions</th>\n    </tr>\n  </thead>\n  <tbody>\n    <tr>\n      <th>0</th>\n      <td>17-year-old [MASK], has come to the student he...</td>\n      <td>[{'token_str': 'f', 'score': 0.274052083492279...</td>\n    </tr>\n    <tr>\n      <th>1</th>\n      <td>17 yo [MASK] with recurrent palpitations for t...</td>\n      <td>[{'token_str': 'f', 'score': 0.215856716036796...</td>\n    </tr>\n    <tr>\n      <th>2</th>\n      <td>dillon cleveland is a 17 y.o. [MASK] patient w...</td>\n      <td>[{'token_str': 'f', 'score': 0.372954219579696...</td>\n    </tr>\n    <tr>\n      <th>3</th>\n      <td>a 17 yo [MASK] c/o palpitation started 3 mos a...</td>\n      <td>[{'token_str': 'f', 'score': 0.553214967250824...</td>\n    </tr>\n    <tr>\n      <th>4</th>\n      <td>17yo [MASK] with no pmh here for evaluation of...</td>\n      <td>[{'token_str': 'f', 'score': 0.213511779904365...</td>\n    </tr>\n    <tr>\n      <th>...</th>\n      <td>...</td>\n      <td>...</td>\n    </tr>\n    <tr>\n      <th>6259</th>\n      <td>35 years old [MASK] with heavy period, started...</td>\n      <td>[{'token_str': 'woman', 'score': 0.17179535329...</td>\n    </tr>\n    <tr>\n      <th>6260</th>\n      <td>35 yo [MASK] co heavy periods since 6 mo ago p...</td>\n      <td>[{'token_str': 'f', 'score': 0.5350366234779358}]</td>\n    </tr>\n    <tr>\n      <th>6261</th>\n      <td>35yo [MASK] with heavy menstrual periods x 6 [...</td>\n      <td>[{'token_str': 'f', 'score': 0.238779321312904...</td>\n    </tr>\n    <tr>\n      <th>6262</th>\n      <td>patient is a 35 yo [MASK] with chief complaint...</td>\n      <td>[{'token_str': 'woman', 'score': 0.45578390359...</td>\n    </tr>\n    <tr>\n      <th>6263</th>\n      <td>cc: irregular menses\\r\\nhpi: 35f g0 with irreg...</td>\n      <td>[{'token_str': 'she', 'score': 0.7751656770706...</td>\n    </tr>\n  </tbody>\n</table>\n<p>6264 rows × 2 columns</p>\n</div>"
          },
          "metadata": {}
        }
      ],
      "execution_count": null
    },
    {
      "cell_type": "code",
      "source": [
        "test_data.iloc[0]['masked_text']"
      ],
      "metadata": {
        "trusted": true,
        "execution": {
          "iopub.status.busy": "2025-04-28T15:22:54.708097Z",
          "iopub.execute_input": "2025-04-28T15:22:54.708389Z",
          "iopub.status.idle": "2025-04-28T15:22:54.726211Z",
          "shell.execute_reply.started": "2025-04-28T15:22:54.708357Z",
          "shell.execute_reply": "2025-04-28T15:22:54.725572Z"
        },
        "id": "tXMA59_m5afk",
        "outputId": "735fd77b-589c-4a09-9ede-4341064b2300"
      },
      "outputs": [
        {
          "execution_count": 44,
          "output_type": "execute_result",
          "data": {
            "text/plain": "\"17-year-old [MASK], has come to the student health clinic complaining of heart pounding. [MASK]. cleveland's mother has given verbal consent for a history, physical examination, and treatment\\r\\n-began 2-3 months ago,sudden,intermittent for 2 days(lasting 3-4 min),worsening,non-allev/aggrav\\r\\n-associated with dispnea on exersion and rest,stressed out about school\\r\\n-reports fe feels like [MASK] heart is jumping out of [MASK] chest\\r\\n-ros:denies chest pain,dyaphoresis,wt loss,chills,fever,nausea,vomiting,pedal edeam\\r\\n-pmh:non,meds :aderol (from a friend),nkda\\r\\n-fh:father had mi recently,mother has thyroid dz\\r\\n-sh:non-smoker,mariguana 5-6 months ago,3 beers on the weekend, basketball at school\\r\\n-sh:no std\""
          },
          "metadata": {}
        }
      ],
      "execution_count": null
    },
    {
      "cell_type": "code",
      "source": [
        "test_data.iloc[0]['gender_predictions']"
      ],
      "metadata": {
        "trusted": true,
        "execution": {
          "iopub.status.busy": "2025-04-28T15:22:54.727016Z",
          "iopub.execute_input": "2025-04-28T15:22:54.727256Z",
          "iopub.status.idle": "2025-04-28T15:22:54.742233Z",
          "shell.execute_reply.started": "2025-04-28T15:22:54.727229Z",
          "shell.execute_reply": "2025-04-28T15:22:54.741561Z"
        },
        "id": "kxsggzn15afk",
        "outputId": "e3643524-5ea4-4454-ea7f-a448dae27651"
      },
      "outputs": [
        {
          "execution_count": 45,
          "output_type": "execute_result",
          "data": {
            "text/plain": "[{'token_str': 'f', 'score': 0.27405208349227905},\n {'token_str': 'ms', 'score': 0.4226628541946411},\n {'token_str': 'her', 'score': 0.9452778100967407},\n {'token_str': 'her', 'score': 0.9632097482681274}]"
          },
          "metadata": {}
        }
      ],
      "execution_count": null
    },
    {
      "cell_type": "code",
      "source": [
        "test_data.head(2)"
      ],
      "metadata": {
        "trusted": true,
        "execution": {
          "iopub.status.busy": "2025-04-28T15:22:54.742851Z",
          "iopub.execute_input": "2025-04-28T15:22:54.743049Z",
          "iopub.status.idle": "2025-04-28T15:22:54.761853Z",
          "shell.execute_reply.started": "2025-04-28T15:22:54.743021Z",
          "shell.execute_reply": "2025-04-28T15:22:54.760998Z"
        },
        "id": "PIofeay85afl",
        "outputId": "048de062-397d-4f42-e688-62d238848e7f"
      },
      "outputs": [
        {
          "execution_count": 46,
          "output_type": "execute_result",
          "data": {
            "text/plain": "   pn_num  case_num                                         pn_history gender  \\\n0       0         0  17-year-old male, has come to the student heal...   male   \n1       1         0  17 yo male with recurrent palpitations for the...   male   \n\n                                         masked_text  \\\n0  17-year-old [MASK], has come to the student he...   \n1  17 yo [MASK] with recurrent palpitations for t...   \n\n                                  gender_predictions  \n0  [{'token_str': 'f', 'score': 0.274052083492279...  \n1  [{'token_str': 'f', 'score': 0.215856716036796...  ",
            "text/html": "<div>\n<style scoped>\n    .dataframe tbody tr th:only-of-type {\n        vertical-align: middle;\n    }\n\n    .dataframe tbody tr th {\n        vertical-align: top;\n    }\n\n    .dataframe thead th {\n        text-align: right;\n    }\n</style>\n<table border=\"1\" class=\"dataframe\">\n  <thead>\n    <tr style=\"text-align: right;\">\n      <th></th>\n      <th>pn_num</th>\n      <th>case_num</th>\n      <th>pn_history</th>\n      <th>gender</th>\n      <th>masked_text</th>\n      <th>gender_predictions</th>\n    </tr>\n  </thead>\n  <tbody>\n    <tr>\n      <th>0</th>\n      <td>0</td>\n      <td>0</td>\n      <td>17-year-old male, has come to the student heal...</td>\n      <td>male</td>\n      <td>17-year-old [MASK], has come to the student he...</td>\n      <td>[{'token_str': 'f', 'score': 0.274052083492279...</td>\n    </tr>\n    <tr>\n      <th>1</th>\n      <td>1</td>\n      <td>0</td>\n      <td>17 yo male with recurrent palpitations for the...</td>\n      <td>male</td>\n      <td>17 yo [MASK] with recurrent palpitations for t...</td>\n      <td>[{'token_str': 'f', 'score': 0.215856716036796...</td>\n    </tr>\n  </tbody>\n</table>\n</div>"
          },
          "metadata": {}
        }
      ],
      "execution_count": null
    },
    {
      "cell_type": "code",
      "source": [
        "male_tokens = [\"he\", \"his\", \"man\", \"male\", \"mr\", \"boy\", \"m\"]\n",
        "female_tokens = [\"she\", \"her\", \"woman\", \"female\", \"mrs\", \"girl\", \"f\", \"hers\", \"ms\"]\n",
        "\n",
        "# Convert to sets for faster lookups\n",
        "male_tokens_set = set(male_tokens)\n",
        "female_tokens_set = set(female_tokens)\n",
        "\n",
        "# --- Function to determine the predominant gender for a list of predictions ---\n",
        "def determine_predominant_gender(predictions_list):\n",
        "    \"\"\"\n",
        "    Analyzes a list of gender prediction dictionaries/None for a row\n",
        "    and determines the predominant gender category ('male', 'female', or 'mixed').\n",
        "    \"\"\"\n",
        "    male_count = 0\n",
        "    female_count = 0\n",
        "\n",
        "    if not predictions_list:\n",
        "        # Handle rows with no masks (predictions_list is empty)\n",
        "        # Or potentially rows where no valid gender term IDs were found initially.\n",
        "        # Treat as mixed if no predictions to count.\n",
        "        return \"mixed\"\n",
        "\n",
        "    # Iterate through the predictions for each mask in the row\n",
        "    # Each item is expected to be None or {'token_str': ..., 'score': ...}\n",
        "    for prediction_info in predictions_list:\n",
        "        # Only process if the prediction is a dictionary (i.e., not None)\n",
        "        if isinstance(prediction_info, dict) and prediction_info is not None:\n",
        "            predicted_token_str = prediction_info.get('token_str')\n",
        "\n",
        "            if predicted_token_str in male_tokens_set:\n",
        "                male_count += 1\n",
        "            elif predicted_token_str in female_tokens_set:\n",
        "                female_count += 1\n",
        "            # Terms not in either list (or None token_str) are ignored in counting\n",
        "\n",
        "    # Determine predominant gender based on counts\n",
        "    if male_count > female_count:\n",
        "        return \"male\"\n",
        "    elif female_count > male_count:\n",
        "        return \"female\"\n",
        "    else:\n",
        "        # male_count == female_count (including the case where both are 0)\n",
        "        return \"mixed\"\n",
        "\n",
        "# --- Apply the function to the 'best_gender_predictions_manual' column ---\n",
        "# We use .apply() with a lambda function or the defined function\n",
        "# The function will be applied to each element in the column (which is the list of predictions for that row)\n",
        "test_data['predominant_gender'] = test_data['gender_predictions'].apply(determine_predominant_gender)\n"
      ],
      "metadata": {
        "trusted": true,
        "execution": {
          "iopub.status.busy": "2025-04-28T15:22:54.762724Z",
          "iopub.execute_input": "2025-04-28T15:22:54.763103Z",
          "iopub.status.idle": "2025-04-28T15:22:54.788566Z",
          "shell.execute_reply.started": "2025-04-28T15:22:54.763076Z",
          "shell.execute_reply": "2025-04-28T15:22:54.787781Z"
        },
        "id": "uDI6OPLD5afl"
      },
      "outputs": [],
      "execution_count": null
    },
    {
      "cell_type": "code",
      "source": [
        "display(test_data.head(2))"
      ],
      "metadata": {
        "trusted": true,
        "execution": {
          "iopub.status.busy": "2025-04-28T15:22:54.789370Z",
          "iopub.execute_input": "2025-04-28T15:22:54.789651Z",
          "iopub.status.idle": "2025-04-28T15:22:54.810521Z",
          "shell.execute_reply.started": "2025-04-28T15:22:54.789624Z",
          "shell.execute_reply": "2025-04-28T15:22:54.809840Z"
        },
        "id": "wyMRYt1Q5afm",
        "outputId": "3bf487dd-03c8-4a8c-c99f-b48573866bb9"
      },
      "outputs": [
        {
          "output_type": "display_data",
          "data": {
            "text/plain": "   pn_num  case_num                                         pn_history gender  \\\n0       0         0  17-year-old male, has come to the student heal...   male   \n1       1         0  17 yo male with recurrent palpitations for the...   male   \n\n                                         masked_text  \\\n0  17-year-old [MASK], has come to the student he...   \n1  17 yo [MASK] with recurrent palpitations for t...   \n\n                                  gender_predictions predominant_gender  \n0  [{'token_str': 'f', 'score': 0.274052083492279...             female  \n1  [{'token_str': 'f', 'score': 0.215856716036796...             female  ",
            "text/html": "<div>\n<style scoped>\n    .dataframe tbody tr th:only-of-type {\n        vertical-align: middle;\n    }\n\n    .dataframe tbody tr th {\n        vertical-align: top;\n    }\n\n    .dataframe thead th {\n        text-align: right;\n    }\n</style>\n<table border=\"1\" class=\"dataframe\">\n  <thead>\n    <tr style=\"text-align: right;\">\n      <th></th>\n      <th>pn_num</th>\n      <th>case_num</th>\n      <th>pn_history</th>\n      <th>gender</th>\n      <th>masked_text</th>\n      <th>gender_predictions</th>\n      <th>predominant_gender</th>\n    </tr>\n  </thead>\n  <tbody>\n    <tr>\n      <th>0</th>\n      <td>0</td>\n      <td>0</td>\n      <td>17-year-old male, has come to the student heal...</td>\n      <td>male</td>\n      <td>17-year-old [MASK], has come to the student he...</td>\n      <td>[{'token_str': 'f', 'score': 0.274052083492279...</td>\n      <td>female</td>\n    </tr>\n    <tr>\n      <th>1</th>\n      <td>1</td>\n      <td>0</td>\n      <td>17 yo male with recurrent palpitations for the...</td>\n      <td>male</td>\n      <td>17 yo [MASK] with recurrent palpitations for t...</td>\n      <td>[{'token_str': 'f', 'score': 0.215856716036796...</td>\n      <td>female</td>\n    </tr>\n  </tbody>\n</table>\n</div>"
          },
          "metadata": {}
        }
      ],
      "execution_count": null
    },
    {
      "cell_type": "code",
      "source": [
        "import matplotlib.pyplot as plt\n",
        "import numpy as np\n",
        "import seaborn as sns\n",
        "import pandas as pd\n",
        "\n",
        "\n",
        "\n",
        "# --- Define color mappings and desired order for predicted predominant gender ---\n",
        "predominant_color_mapping = {'male': 'lightblue', 'female': 'lightgray', 'mixed': 'lightcoral'}\n",
        "predominant_order = ['male', 'female', 'mixed'] # Define the order\n",
        "\n",
        "\n",
        "# --- Define Case Numbers to plot ---\n",
        "case1_num = 0\n",
        "case2_num = 7\n",
        "\n",
        "\n",
        "# Data for Case 1 (Case 0)\n",
        "df_case1 = test_data[test_data['case_num'] == case1_num]\n",
        "actual_gender_case1_label = 'N/A'\n",
        "actual_gender_case1_count = 0\n",
        "counts_predicted_case1 = pd.Series(0, index=predominant_order) # Initialize with zeros\n",
        "\n",
        "if not df_case1.empty:\n",
        "    # Assume actual gender is consistent and in 'gender' column\n",
        "    if 'gender' in df_case1.columns and not df_case1['gender'].empty:\n",
        "         actual_gender_case1_label = df_case1['gender'].iloc[0]\n",
        "    # Calculate actual count for the specific gender (assuming male for case 0 based on previous data)\n",
        "    if actual_gender_case1_label == 'male': # Assuming male for case 0\n",
        "         actual_gender_case1_count = df_case1[df_case1['gender'] == 'male'].shape[0]\n",
        "    # Calculate predicted counts\n",
        "    if 'predominant_gender' in df_case1.columns:\n",
        "        counts_predicted_case1 = df_case1['predominant_gender'].value_counts().reindex(predominant_order, fill_value=0)\n",
        "\n",
        "\n",
        "# Data for Case 2 (Case 7)\n",
        "df_case2 = test_data[test_data['case_num'] == case2_num]\n",
        "actual_gender_case2_label = 'N/A'\n",
        "actual_gender_case2_count = 0\n",
        "counts_predicted_case2 = pd.Series(0, index=predominant_order) # Initialize with zeros\n",
        "\n",
        "if not df_case2.empty:\n",
        "    # Assume actual gender is consistent and in 'gender' column\n",
        "    if 'gender' in df_case2.columns and not df_case2['gender'].empty:\n",
        "        actual_gender_case2_label = df_case2['gender'].iloc[0]\n",
        "    # Calculate actual count for the specific gender (assuming female for case 7 based on previous data)\n",
        "    if actual_gender_case2_label == 'female': # Assuming female for case 7\n",
        "        actual_gender_case2_count = df_case2[df_case2['gender'] == 'female'].shape[0]\n",
        "    # Calculate predicted counts\n",
        "    if 'predominant_gender' in df_case2.columns:\n",
        "        counts_predicted_case2 = df_case2['predominant_gender'].value_counts().reindex(predominant_order, fill_value=0)\n",
        "\n",
        "\n",
        "# --- Create the figure and 2x2 subplots ---\n",
        "fig, axs = plt.subplots(2, 2, figsize=(8, 8), gridspec_kw={'width_ratios': [0.7, 1], 'height_ratios': [1, 1]})\n",
        "\n",
        "# Overall centered title\n",
        "fig.suptitle('Gender and Symptoms Masked for BERT-base', fontsize=14, y=0.97)\n",
        "\n",
        "# --- Plot Actual Gender - Case 0 (Top-Left) ---\n",
        "ax0 = axs[0, 0]\n",
        "# Use plt.bar for the single bar\n",
        "bars0 = ax0.bar([f'Case-{case1_num}\\n(Actual: {actual_gender_case1_label})'], [actual_gender_case1_count],\n",
        "                color='lightblue' if actual_gender_case1_label == 'male' else ('lightgray' if actual_gender_case1_label == 'female' else 'lightcoral'),\n",
        "                width=0.4)\n",
        "ax0.set_title(f'Actual Gender - Case {case1_num}', fontsize=10)\n",
        "for bar in bars0:\n",
        "    height = bar.get_height()\n",
        "    ax0.text(bar.get_x() + bar.get_width()/2, height + 10, f'{height}', ha='center', va='bottom', fontsize=9) # Adjusted offset\n",
        "ax0.set_xlim(-0.5, 0.5) # Center the single bar\n",
        "ax0.set_xticks([]) # Hide x-axis ticks\n",
        "ax0.tick_params(axis='y', labelsize=9)\n",
        "\n",
        "\n",
        "# --- Plot Predicted Gender - Case 0 (Top-Right) ---\n",
        "ax1 = axs[0, 1]\n",
        "# Use seaborn.barplot for the multiple bars\n",
        "sns.barplot(x=counts_predicted_case1.index, y=counts_predicted_case1.values, order=predominant_order,\n",
        "            palette=predominant_color_mapping, ax=ax1)\n",
        "ax1.set_title(f'Predicted Gender - Case {case1_num}', fontsize=10)\n",
        "ax1.tick_params(axis='x',  labelsize=9) # Adjusted font size and rotation\n",
        "ax1.tick_params(axis='y', labelsize=9)\n",
        "ax1.set_xlabel(\"\")\n",
        "# Add counts on top of bars\n",
        "for container in ax1.containers:\n",
        "    ax1.bar_label(container, labels=[f'{int(v.get_height())}' for v in container], label_type='edge', fontsize=8) # Adjusted font size\n",
        "\n",
        "\n",
        "# --- Plot Actual Gender - Case 7 (Bottom-Left) ---\n",
        "ax2 = axs[1, 0]\n",
        "# Use plt.bar for the single bar\n",
        "bars2 = ax2.bar([f'Case-{case2_num}\\n(Actual: {actual_gender_case2_label})'], [actual_gender_case2_count],\n",
        "                color='lightblue' if actual_gender_case2_label == 'male' else ('lightgray' if actual_gender_case2_label == 'female' else 'lightcoral'),\n",
        "                width=0.4)\n",
        "ax2.set_title(f'Actual Gender - Case {case2_num}', fontsize=10)\n",
        "for bar in bars2:\n",
        "    height = bar.get_height()\n",
        "    ax2.text(bar.get_x() + bar.get_width()/2, height + 10, f'{height}', ha='center', va='bottom', fontsize=9) # Adjusted offset\n",
        "ax2.set_xlim(-0.5, 0.5) # Center the single bar\n",
        "ax2.set_xticks([]) # Hide x-axis ticks\n",
        "ax2.tick_params(axis='y', labelsize=9)\n",
        "\n",
        "\n",
        "# --- Plot Predicted Gender - Case 7 (Bottom-Right) ---\n",
        "ax3 = axs[1, 1]\n",
        "# Use seaborn.barplot for the multiple bars\n",
        "sns.barplot(x=counts_predicted_case2.index, y=counts_predicted_case2.values, order=predominant_order,\n",
        "            palette=predominant_color_mapping, ax=ax3)\n",
        "ax3.set_title(f'Predicted Gender - Case {case2_num}', fontsize=10)\n",
        "ax3.tick_params(axis='x' ,labelsize=9) # Adjusted font size and rotation\n",
        "ax3.tick_params(axis='y', labelsize=9)\n",
        "ax3.set_xlabel(\"\")\n",
        "# Add counts on top of bars\n",
        "for container in ax3.containers:\n",
        "    ax3.bar_label(container, labels=[f'{int(v.get_height())}' for v in container], label_type='edge', fontsize=8) # Adjusted font size\n",
        "\n",
        "\n",
        "# --- Set consistent y-limits per row ---\n",
        "# Top row (ax0, ax1)\n",
        "max_y_top = max(actual_gender_case1_count if actual_gender_case1_count is not None else 0,\n",
        "                counts_predicted_case1.values.max() if counts_predicted_case1 is not None else 0) + 200 # Added padding\n",
        "ax0.set_ylim(0, max_y_top)\n",
        "ax1.set_ylim(0, max_y_top)\n",
        "\n",
        "# Bottom row (ax2, ax3)\n",
        "max_y_bottom = max(actual_gender_case2_count if actual_gender_case2_count is not None else 0,\n",
        "                   counts_predicted_case2.values.max() if counts_predicted_case2 is not None else 0) + 200 # Added padding\n",
        "ax2.set_ylim(0, max_y_bottom)\n",
        "ax3.set_ylim(0, max_y_bottom)\n",
        "\n",
        "\n",
        "# --- Adjust layout ---\n",
        "plt.tight_layout(rect=[0, 0, 1, 0.95]) # Keep space for the suptitle\n",
        "plt.subplots_adjust(hspace=0.5, wspace=0.3) # Adjust spacing between subplots\n",
        "\n",
        "plt.show()"
      ],
      "metadata": {
        "trusted": true,
        "execution": {
          "iopub.status.busy": "2025-04-28T16:03:27.198140Z",
          "iopub.execute_input": "2025-04-28T16:03:27.198545Z",
          "iopub.status.idle": "2025-04-28T16:03:27.784427Z",
          "shell.execute_reply.started": "2025-04-28T16:03:27.198489Z",
          "shell.execute_reply": "2025-04-28T16:03:27.783372Z"
        },
        "id": "8inKAk6Z5afn",
        "outputId": "41098364-e000-4754-f1f7-70cb1578dc32"
      },
      "outputs": [
        {
          "output_type": "display_data",
          "data": {
            "text/plain": "<Figure size 800x800 with 4 Axes>",
            "image/png": "[encoded data removed]"
          },
          "metadata": {}
        }
      ],
      "execution_count": null
    }
  ]
}